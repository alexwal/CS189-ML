{
 "cells": [
  {
   "cell_type": "code",
   "execution_count": 40,
   "metadata": {
    "collapsed": true
   },
   "outputs": [],
   "source": [
    "# Alex Walczak | CS 189 | Homework 5 part 1: Decision Trees, Random Forests for Spam Data\n",
    "\n",
    "# Import functions and libraries\n",
    "from __future__ import division\n",
    "import numpy as np, matplotlib.pyplot as plt\n",
    "from matplotlib.pyplot import *\n",
    "from mpl_toolkits.mplot3d import Axes3D\n",
    "from matplotlib import cm\n",
    "from matplotlib.ticker import LinearLocator, FormatStrFormatter\n",
    "import scipy.io\n",
    "from scipy import signal\n",
    "from mpl_toolkits.axes_grid1 import make_axes_locatable\n",
    "from pylab import rcParams\n",
    "from sklearn.cross_validation import KFold\n",
    "rcParams['figure.figsize'] = 7, 7\n",
    "%matplotlib inline"
   ]
  },
  {
   "cell_type": "code",
   "execution_count": 41,
   "metadata": {
    "collapsed": true
   },
   "outputs": [],
   "source": [
    "# def binarize(data):\n",
    "#     # turns out, not a good idea...\n",
    "#     # Binarize the features using Xij ← I(Xij > 0).\n",
    "#     data[data > 0] = 1\n",
    "#     data[data != 1] = 0\n",
    "#     return data"
   ]
  },
  {
   "cell_type": "code",
   "execution_count": 42,
   "metadata": {
    "collapsed": true
   },
   "outputs": [],
   "source": [
    "# Recommended functions.\n",
    "# 1. csv.DictReader\n",
    "# If you use csv.DictReader, it will automatically parse out the header line in the\n",
    "# csv file (first line of the file) and assign values to fields in a dictionary. \n",
    "# This can then be consumed by DictVectorizer to binarize categorical variables.\n",
    "\n",
    "# 2. sklearn.feature_extraction.DictVectorizer (vectorizing categorical variables)\n",
    "#     (There’s also sklearn.preprocessingOneHotEncoder, but it’s much less clean)\n",
    "\n",
    "# 3. sklearn.preprocessing.LabelEncoder\n",
    "#     (if you choose to discretize but not vectorize categorical variables)\n",
    "\n",
    "# 4. sklearn.preprocessing.Imputer\n",
    "#     (for inferring missing feature values in the preprocessing phase)"
   ]
  },
  {
   "cell_type": "code",
   "execution_count": 43,
   "metadata": {
    "collapsed": false
   },
   "outputs": [],
   "source": [
    "# Import data\n",
    "sdata = scipy.io.loadmat(\"spam-dataset/spam_data.mat\")\n",
    "strain_data = sdata[\"training_data\"] + 0.0\n",
    "strain_labels = sdata[\"training_labels\"][0,:]\n",
    "stest_data = sdata[\"test_data\"] + 0.0"
   ]
  },
  {
   "cell_type": "code",
   "execution_count": 44,
   "metadata": {
    "collapsed": false
   },
   "outputs": [],
   "source": [
    "# bstrain_data = binarize(strain_data)\n",
    "# bstrain_labels = binarize(strain_labels)\n",
    "# bstest_data = binarize(stest_data)"
   ]
  },
  {
   "cell_type": "code",
   "execution_count": 45,
   "metadata": {
    "collapsed": true
   },
   "outputs": [],
   "source": [
    "# Functions"
   ]
  },
  {
   "cell_type": "code",
   "execution_count": 46,
   "metadata": {
    "collapsed": true
   },
   "outputs": [],
   "source": [
    "from __future__ import print_function\n",
    "# Save labels\n",
    "def save_labels(labels, fname):\n",
    "    f1 = open(fname, 'w+')\n",
    "    print('Id,Category', file = f1)\n",
    "    for i in range(len(labels)):\n",
    "        print(str(i+1)+\",\"+str(int(labels[i])), file = f1)\n",
    "# save_labels(spam_labels,'kaggle_spam_mean.csv')"
   ]
  },
  {
   "cell_type": "code",
   "execution_count": 47,
   "metadata": {
    "collapsed": true
   },
   "outputs": [],
   "source": [
    "def probability(Y, C, S, distbn=None):\n",
    "# probability of random variable Y being in class C\n",
    "# index set S\n",
    "    count = 0\n",
    "    for i in S:\n",
    "        if Y[int(i)] == C:\n",
    "            count += 1\n",
    "    return count/len(S)\n",
    "\n",
    "def surprise(Y, C, S):\n",
    "# surprise of random variable Y being in class C\n",
    "    return -probability(Y, C, S)*((np.log(probability(Y, C, S)))/np.log(2))\n",
    "\n",
    "def entropy(Y, classes, S):\n",
    "# entropy of an index set S\n",
    "# max = 1 occurs when Y is evenly split [ range = [0,1] ]\n",
    "# (updating of entropy will be optimized, this is a naive version)\n",
    "    H = 0\n",
    "    for C in classes:\n",
    "        H += surprise(Y, C, S)\n",
    "    return H\n",
    "\n",
    "def information_gain(Y, classes, S, Sleft, Sright):\n",
    "    # change in entropy resulting from a split\n",
    "    # we choose the split which maximizes this quanitity\n",
    "    Hafter = (len(Sleft)*entropy(Y, classes, Sleft) + len(Sright)*entropy(Y, classes, Sright))/len(S)\n",
    "    return entropy(Y, classes, S) - Hafter\n",
    "\n",
    "def weighted_sum_of_entropy(Y, classes, S, Sleft, Sright):\n",
    "    # we choose the split which MINimizes this quanitity\n",
    "    Hafter = (len(Sleft)*entropy(Y, classes, Sleft) + len(Sright)*entropy(Y, classes, Sright))/len(S)\n",
    "    return entropy(Y, classes, S) - Hafter\n",
    "\n",
    "def gini_impurity(Y, classes, S):\n",
    "    # Y can be thought of as a vector of labels, where a label equals a class C in classes.\n",
    "    # we are only interested in the labels indexed by S. The other samples aren't being worked on.\n",
    "    sum_prob_squared = 0\n",
    "    for C in classes:\n",
    "        sum_prob_squared+=(probability(Y, C, S)**2)\n",
    "    return 1-sum_prob_squared"
   ]
  },
  {
   "cell_type": "code",
   "execution_count": 48,
   "metadata": {
    "collapsed": true
   },
   "outputs": [],
   "source": [
    "# Data Structure-related"
   ]
  },
  {
   "cell_type": "code",
   "execution_count": 49,
   "metadata": {
    "collapsed": true
   },
   "outputs": [],
   "source": [
    "# Thought: try cross validation on hyperparams."
   ]
  },
  {
   "cell_type": "code",
   "execution_count": 50,
   "metadata": {
    "collapsed": true
   },
   "outputs": [],
   "source": [
    "### Pruning-related"
   ]
  },
  {
   "cell_type": "code",
   "execution_count": 51,
   "metadata": {
    "collapsed": true
   },
   "outputs": [],
   "source": [
    "def postprune(node, ogtree, tdata, tlabels):\n",
    "    if node == None:\n",
    "        return\n",
    "    if node.label!=None:\n",
    "        return\n",
    "        \n",
    "    postprune(node.left, ogtree, tdata, tlabels)\n",
    "    postprune(node.right, ogtree, tdata, tlabels)\n",
    "    \n",
    "    error_before = np.sum(tlabels != ogtree.predict_all(tdata))/len(tlabels)\n",
    "    testasleaf(node)\n",
    "    error_after = np.sum(tlabels != ogtree.predict_all(tdata))/len(tlabels)\n",
    "\n",
    "    if error_after <= error_before:\n",
    "        converttoleaf(node)\n",
    "    else:\n",
    "        undotestasleaf(node)\n",
    "\n",
    "\n",
    "def testasleaf(node):\n",
    "    # if a node label is not None, the children are never looked at. \n",
    "    # so to prune, we can just set node labels!\n",
    "    if int(np.rint(node.split_rule[1])) >= 1:\n",
    "        node.label = 1\n",
    "    else:\n",
    "        node.label = 0\n",
    "\n",
    "def undotestasleaf(node):\n",
    "    node.label = None\n",
    "    \n",
    "def converttoleaf(node):\n",
    "    node.left = None\n",
    "    node.right = None\n",
    "    node.split_rule = None\n",
    "\n",
    "def countnodesandleaves(node):\n",
    "    if node == None:\n",
    "        return 0\n",
    "    if node.label != None:\n",
    "        return 1\n",
    "    else:\n",
    "        return 1 + countnodesandleaves(node.left) + countnodesandleaves(node.right)"
   ]
  },
  {
   "cell_type": "code",
   "execution_count": 65,
   "metadata": {
    "collapsed": false
   },
   "outputs": [],
   "source": [
    "class SpamTree:\n",
    "    \n",
    "    class Node:\n",
    "        def __init__(self, left=None, right=None, label=None, split_rule=None):\n",
    "            self.left = left\n",
    "            self.right = right\n",
    "            self.label = label\n",
    "            self.split_rule = split_rule # (feature, threshhold)\n",
    "    \n",
    "    def __init__(self, SMALLEST_OK_LEAF=1):\n",
    "        self.SMALLEST_OK_LEAF = SMALLEST_OK_LEAF\n",
    "        self.root = self.Node()\n",
    "        \n",
    "    def segmenter(self, data, labels, depth):\n",
    "        # A method that takes in data and labels. When called, it finds the best split rule\n",
    "        # for a Node using the impurity measure and input data.\n",
    "        \n",
    "        # stopping conditions\n",
    "        if len(labels) <= self.SMALLEST_OK_LEAF:\n",
    "            return None\n",
    "        \n",
    "        if (np.sum(labels) == 0 or np.sum(labels) == len(labels)):\n",
    "            return None\n",
    "        \n",
    "        num_features = len(data[0])\n",
    "        \n",
    "        # which feature to split on?\n",
    "        impurities = np.zeros(num_features)\n",
    "        for j in range(num_features):\n",
    "            # suppose split on j, quantify the split quality.\n",
    "            left_label_hist = [[0,0],[1,0]]\n",
    "            right_label_hist = [[0,0],[1,0]]\n",
    "                \n",
    "            left_label_hist[1][1] = np.sum(labels[np.where(data[:,j] < np.mean(data[:,j]))]) # number of ones in left split\n",
    "            right_label_hist[1][1] = np.sum(labels[np.where(data[:,j] >= np.mean(data[:,j]))])\n",
    "            left_label_hist[0][1] = len(labels[np.where(data[:,j] < np.mean(data[:,j]))]) - left_label_hist[1][1] # number of zeros (is the rest of left data)\n",
    "            right_label_hist[0][1] = len(labels[np.where(data[:,j] >= np.mean(data[:,j]))]) - right_label_hist[1][1]\n",
    "\n",
    "            impurities[j] = self.WSE(left_label_hist, right_label_hist)\n",
    "            if (np.isnan(impurities[j])):\n",
    "                print('ENCOUNTERED NAN')\n",
    "                print(left_label_hist, right_label_hist)\n",
    "                \n",
    "        if np.min(impurities) == 0:\n",
    "            return None\n",
    "        \n",
    "        else:\n",
    "            return np.argmin(impurities) # best feature\n",
    "        \n",
    "    def train(self, tree, data, labels, depth=2):\n",
    "        # Grows a decision tree by constructing nodes.\n",
    "        \n",
    "        # A stopping condition (too deep or empty node)\n",
    "        if depth <= 0 or len(data)==0:\n",
    "            average = np.sum(labels)/len(labels)\n",
    "            if average >= 0.5:\n",
    "                label = 1\n",
    "            else:\n",
    "                label = 0\n",
    "            tree.label = label\n",
    "            return tree\n",
    "        \n",
    "        split_point = self.segmenter(data, labels, depth)\n",
    "        if split_point == None:\n",
    "            if int(np.rint(np.mean(labels))) >= 1:\n",
    "                tree.label = 1\n",
    "            else:\n",
    "                tree.label = 0\n",
    "        else:\n",
    "            left_inds = np.where(data[:,split_point] < np.mean(data[:,split_point])) # maybe round up? nah\n",
    "            right_inds = np.where(data[:,split_point] >= np.mean(data[:,split_point]))\n",
    "            left_data = data[left_inds]\n",
    "            right_data = data[right_inds]\n",
    "            left_labels = labels[left_inds]\n",
    "            right_labels = labels[right_inds]\n",
    "            tree.split_rule = (split_point, np.mean(data[:,split_point]))\n",
    "            tree.left = self.train(self.Node(), left_data, left_labels, depth-1)\n",
    "            tree.right = self.train(self.Node(), right_data, right_labels, depth-1)\n",
    "        return tree\n",
    "\n",
    "    def predict(self, data, show=False, i=5):\n",
    "        # Traverses the tree to find the best label to classify the data point.\n",
    "        cur_node = self.root\n",
    "        origi = i\n",
    "        while (cur_node.label == None and i):\n",
    "            split_point = cur_node.split_rule[0]\n",
    "            thresh = cur_node.split_rule[1]\n",
    "            if show:\n",
    "                print(origi-i+1, split_point, data[split_point], thresh)\n",
    "                i-=1\n",
    "            if (data[split_point] < thresh):\n",
    "                cur_node = cur_node.left\n",
    "            else:\n",
    "                cur_node = cur_node.right\n",
    "            if (cur_node.label>1):\n",
    "                print(cur_node.split_rule)\n",
    "                print(cur_node.label)\n",
    "        return int(cur_node.label)\n",
    "    \n",
    "    def predict_all(self, test_data):\n",
    "        predns = [0,0]\n",
    "        pred_labels = []\n",
    "        errors = 0\n",
    "        for i in range(len(test_data)):\n",
    "            sample = test_data[i]\n",
    "            predn = self.predict(sample)\n",
    "            if predn > 1:\n",
    "                print(predn)\n",
    "            predns[predn] += 1\n",
    "            pred_labels += [predn]\n",
    "        plt.stem(predns)\n",
    "        plt.xlim([-.2,1.2])\n",
    "        plt.title('Number of each class')\n",
    "#         print('Preidcted Spam : Total ratio =', predns[1]/len(test_data))\n",
    "        return np.array(pred_labels)\n",
    "    \n",
    "    def WSE(self, left_label_hist, right_label_hist):\n",
    "        return self.weighted_sum_of_entropy(left_label_hist, right_label_hist)\n",
    "    \n",
    "    def weighted_sum_of_entropy(self, left_label_hist, right_label_hist):\n",
    "        # we choose the split which MINimizes this quanitity\n",
    "        # for spam, two hists may be: ex. [( (0, 134), (1, 57)), ( (0, 12), (1, 19))]\n",
    "        # card_X -> cardinality of X histogram\n",
    "        card_left = left_label_hist[0][1] + left_label_hist[1][1]\n",
    "        card_right = right_label_hist[0][1] + right_label_hist[1][1]\n",
    "        return (card_left*self.entropy(left_label_hist) + card_right*self.entropy(right_label_hist))/(card_left+card_right+1e-11)\n",
    "    \n",
    "    def entropy(self, hist):\n",
    "        # of a node, often a proposed node.\n",
    "        # hist = (...,(feature_i, frequency),...)\n",
    "        total = hist[0][1] + hist[1][1] + 1e-15\n",
    "        prob0 = hist[0][1]/total\n",
    "        prob1 = hist[1][1]/total\n",
    "        return prob0*self.surprise(prob0) + prob1*self.surprise(prob1)\n",
    "        \n",
    "    def surprise(self, probability):\n",
    "        return -((np.log(probability + 1e-15))/np.log(2))\n",
    "\n",
    "    def impurity(self, left_label_hist, right_label_hist):\n",
    "    # A method that takes in the result of a split: two histograms (a histogram is a mapping\n",
    "    # from label values to their frequencies) that count the frequencies of labels on the ”left”\n",
    "    # and ”right” side of that split. The method calculates and outputs a scalar value\n",
    "    # representing the impurity (i.e. the ”badness”) of the specified split on the input data.\n",
    "    # for spam: ( (0, 134), (1, 57))\n",
    "        card_left = left_label_hist[0][1] + left_label_hist[1][1]\n",
    "        card_right = right_label_hist[0][1] + right_label_hist[1][1]\n",
    "        return ((card_left)*(gini_impurity(left_label_hist)) + (card_right)*(gini_impurity(right_label_hist)))/(card_left+card_right+1e-13)\n",
    "    \n",
    "def gini_impurity(hist):\n",
    "    # Y can be thought of as a vector of labels, where a label equals a class C in classes.\n",
    "    # we are only interested in the labels indexed by S. The other samples aren't being worked on.\n",
    "    sum_prob_squared = 0\n",
    "    card = hist[0][1] + hist[1][1]\n",
    "    sum_prob_squared = (hist[0][1]/(card+1e-13))**2 + (hist[1][1]/(card+1e-13))**2\n",
    "    return 1-sum_prob_squared\n",
    "\n",
    "def avg_prediction(trees, data):\n",
    "    predicted_labels = []\n",
    "    for tree in trees:\n",
    "        predicted_labels += [tree.predict_all(data)]\n",
    "    predicted_labels = np.array([predicted_labels])\n",
    "    return np.rint(np.mean(predicted_labels, axis = 1))\n",
    "\n",
    "# st.WSE(((0,13),(1,4)),((0,1),(1,12))) # test :D"
   ]
  },
  {
   "cell_type": "code",
   "execution_count": 55,
   "metadata": {
    "collapsed": false,
    "scrolled": false
   },
   "outputs": [],
   "source": [
    "# Build a set of \"differently pruned\" trees. (saw no improvement.)\n",
    "\n",
    "rand_inds = np.random.permutation(len(strain_data))\n",
    "KFprune = KFold(rand_inds[4500:].shape[0], n_folds=3, shuffle = True)\n",
    "\n",
    "best_smallest_leaf_permitted = 2\n",
    "best_depth = 60\n",
    "pruned_trees = []\n",
    "\n",
    "training_data = strain_data[rand_inds[:4500]]\n",
    "training_labels = strain_labels[rand_inds[:4500]]\n",
    "\n",
    "#selecting different pruning sets\n",
    "for unused, prune_inds in KFprune:\n",
    "    \n",
    "    inds = rand_inds[4500:][prune_inds]\n",
    "    \n",
    "    prune_data = strain_data[inds]\n",
    "    prune_labels = strain_labels[inds]\n",
    "\n",
    "    spam_tree = SpamTree(best_smallest_leaf_permitted)\n",
    "    spam_tree.train(spam_tree.root, training_data, training_labels, best_depth)\n",
    "\n",
    "    postprune(spam_tree.root, spam_tree, prune_data, prune_labels)\n",
    "    \n",
    "    pruned_trees += [spam_tree]\n",
    "    print('bark!')"
   ]
  },
  {
   "cell_type": "code",
   "execution_count": 72,
   "metadata": {
    "collapsed": false,
    "scrolled": true
   },
   "outputs": [
    {
     "name": "stderr",
     "output_type": "stream",
     "text": [
      "/Library/Python/2.7/site-packages/numpy/core/_methods.py:59: RuntimeWarning: Mean of empty slice.\n",
      "  warnings.warn(\"Mean of empty slice.\", RuntimeWarning)\n",
      "/Library/Python/2.7/site-packages/numpy/core/_methods.py:69: RuntimeWarning: invalid value encountered in true_divide\n",
      "  ret, rcount, out=ret, casting='unsafe', subok=False)\n"
     ]
    },
    {
     "data": {
      "text/plain": [
       "1.0"
      ]
     },
     "execution_count": 72,
     "metadata": {},
     "output_type": "execute_result"
    }
   ],
   "source": [
    "test_spam = strain_data[rand_inds[400:900]]\n",
    "test_spam_labels = strain_labels[rand_inds[400:900]]\n",
    "\n",
    "avg_pdn = avg_prediction(pruned_trees, test_spam)\n",
    "np.sum(avg_pdn != test_spam_labels)/len(test_spam_labels)"
   ]
  },
  {
   "cell_type": "code",
   "execution_count": null,
   "metadata": {
    "collapsed": true
   },
   "outputs": [],
   "source": [
    "# Tests without pruning."
   ]
  },
  {
   "cell_type": "code",
   "execution_count": 66,
   "metadata": {
    "collapsed": false
   },
   "outputs": [
    {
     "name": "stderr",
     "output_type": "stream",
     "text": [
      "/usr/local/lib/python2.7/site-packages/ipykernel/__main__.py:55: RuntimeWarning: invalid value encountered in long_scalars\n"
     ]
    },
    {
     "name": "stdout",
     "output_type": "stream",
     "text": [
      "Error 0.112722351121\n"
     ]
    },
    {
     "data": {
      "image/png": "[encoded data removed]",
      "text/plain": [
       "<matplotlib.figure.Figure at 0x19bdeac90>"
      ]
     },
     "metadata": {},
     "output_type": "display_data"
    }
   ],
   "source": [
    "best_smallest_leaf_permitted = 27\n",
    "best_depth = 39\n",
    "st = SpamTree(best_smallest_leaf_permitted)\n",
    "st.train(st.root, strain_data, strain_labels, best_depth)\n",
    "\n",
    "predn_labels = st.predict_all(strain_data);\n",
    "print('Error', np.sum(predn_labels != strain_labels)/len(strain_labels))"
   ]
  },
  {
   "cell_type": "code",
   "execution_count": 68,
   "metadata": {
    "collapsed": false
   },
   "outputs": [],
   "source": [
    "# st.predict(strain_data[666], show = True)"
   ]
  },
  {
   "cell_type": "code",
   "execution_count": 1389,
   "metadata": {
    "collapsed": false
   },
   "outputs": [
    {
     "data": {
      "image/png": "[encoded data removed]",
      "text/plain": [
       "<matplotlib.figure.Figure at 0x11b7a7450>"
      ]
     },
     "metadata": {},
     "output_type": "display_data"
    }
   ],
   "source": [
    "st.predict_all(stest_data);"
   ]
  },
  {
   "cell_type": "code",
   "execution_count": null,
   "metadata": {
    "collapsed": true
   },
   "outputs": [],
   "source": [
    "### start find best depth ###"
   ]
  },
  {
   "cell_type": "code",
   "execution_count": 1312,
   "metadata": {
    "collapsed": false
   },
   "outputs": [
    {
     "name": "stderr",
     "output_type": "stream",
     "text": [
      "/usr/local/lib/python2.7/site-packages/ipykernel/__main__.py:56: RuntimeWarning: invalid value encountered in long_scalars\n"
     ]
    },
    {
     "data": {
      "image/png": "[encoded data removed]",
      "text/plain": [
       "<matplotlib.figure.Figure at 0x118d51710>"
      ]
     },
     "metadata": {},
     "output_type": "display_data"
    }
   ],
   "source": [
    "kf = KFold(strain_data.shape[0], n_folds=10, shuffle = True)\n",
    "\n",
    "depths = [1,3,5,7,9,11,13,15,17,19,21,23,25,27,29,31,39,45,55,60]\n",
    "depth_errors = np.zeros(len(depths))\n",
    "smallest_leaf_permitted = 29\n",
    "for i in range(len(depths)):\n",
    "    for train, test in kf:\n",
    "        ktrain = strain_data[train]\n",
    "        ktrain_label = strain_labels[train]\n",
    "        ktest = strain_data[test]\n",
    "        ktrue = strain_labels[test]\n",
    "        \n",
    "        st = SpamTree(smallest_leaf_permitted)\n",
    "        st.train(st.root, ktrain, ktrain_label, depths[i])\n",
    "        predn_labels = st.predict_all(ktest);\n",
    "        depth_errors[i]+=(np.sum(predn_labels != ktrue)/len(ktrue))*0.1"
   ]
  },
  {
   "cell_type": "code",
   "execution_count": 1316,
   "metadata": {
    "collapsed": false
   },
   "outputs": [
    {
     "data": {
      "text/plain": [
       "39"
      ]
     },
     "execution_count": 1316,
     "metadata": {},
     "output_type": "execute_result"
    }
   ],
   "source": [
    "depths[np.argmin(depth_errors)] # 39"
   ]
  },
  {
   "cell_type": "code",
   "execution_count": 1313,
   "metadata": {
    "collapsed": false
   },
   "outputs": [
    {
     "data": {
      "text/plain": [
       "<matplotlib.text.Text at 0x11ae90050>"
      ]
     },
     "execution_count": 1313,
     "metadata": {},
     "output_type": "execute_result"
    },
    {
     "data": {
      "image/png": "[encoded data removed]",
      "text/plain": [
       "<matplotlib.figure.Figure at 0x118e12590>"
      ]
     },
     "metadata": {},
     "output_type": "display_data"
    }
   ],
   "source": [
    "plt.plot(depths, depth_errors)\n",
    "plt.title('Result of K-fold CV for Depth of Tree')\n",
    "plt.xlabel('Depth')\n",
    "plt.ylabel('Average Error')"
   ]
  },
  {
   "cell_type": "code",
   "execution_count": 1719,
   "metadata": {
    "collapsed": false
   },
   "outputs": [],
   "source": [
    "## deeeeep\n",
    "depths = [25,29,35,39,45,55,60,64,70,78,80,88]\n",
    "depth_errors = np.zeros(len(depths))\n",
    "smallest_leaf_permitted = 2\n",
    "for i in range(len(depths)):\n",
    "    for train, test in kf:\n",
    "        ktrain = strain_data[train]\n",
    "        ktrain_label = strain_labels[train]\n",
    "        ktest = strain_data[test]\n",
    "        ktrue = strain_labels[test]\n",
    "        \n",
    "        st = SpamTree(smallest_leaf_permitted)\n",
    "        st.train(st.root, ktrain, ktrain_label, depths[i])\n",
    "        predn_labels = st.predict_all(ktest);\n",
    "        depth_errors[i]+=(np.sum(predn_labels != ktrue)/len(ktrue))*0.1\n",
    "    print(i)"
   ]
  },
  {
   "cell_type": "code",
   "execution_count": 1714,
   "metadata": {
    "collapsed": false,
    "scrolled": true
   },
   "outputs": [
    {
     "name": "stdout",
     "output_type": "stream",
     "text": [
      "45\n"
     ]
    }
   ],
   "source": [
    "print(depths[np.argmin(depth_errors)])"
   ]
  },
  {
   "cell_type": "code",
   "execution_count": 1711,
   "metadata": {
    "collapsed": false
   },
   "outputs": [
    {
     "data": {
      "text/plain": [
       "<matplotlib.text.Text at 0x15ad27110>"
      ]
     },
     "execution_count": 1711,
     "metadata": {},
     "output_type": "execute_result"
    },
    {
     "data": {
      "image/png": "[encoded data removed]",
      "text/plain": [
       "<matplotlib.figure.Figure at 0x15ac47050>"
      ]
     },
     "metadata": {},
     "output_type": "display_data"
    }
   ],
   "source": [
    "plt.plot(depths, depth_errors)\n",
    "plt.title('Result of K-fold CV for Deeeeeeeepth of Tree') # min at depth = 45\n",
    "plt.xlabel('Depth')\n",
    "plt.ylabel('Average Error')"
   ]
  },
  {
   "cell_type": "code",
   "execution_count": null,
   "metadata": {
    "collapsed": true
   },
   "outputs": [],
   "source": [
    "### end find best depth ### result "
   ]
  },
  {
   "cell_type": "code",
   "execution_count": 1314,
   "metadata": {
    "collapsed": true
   },
   "outputs": [],
   "source": [
    "# General Testing of a hyperparameter."
   ]
  },
  {
   "cell_type": "code",
   "execution_count": 1317,
   "metadata": {
    "collapsed": false
   },
   "outputs": [
    {
     "name": "stderr",
     "output_type": "stream",
     "text": [
      "/usr/local/lib/python2.7/site-packages/ipykernel/__main__.py:56: RuntimeWarning: invalid value encountered in long_scalars\n"
     ]
    },
    {
     "data": {
      "image/png": "[encoded data removed]",
      "text/plain": [
       "<matplotlib.figure.Figure at 0x11b0b0ed0>"
      ]
     },
     "metadata": {},
     "output_type": "display_data"
    }
   ],
   "source": [
    "hyperparam = [1,2,3,4,5,6,7,8,9,10,11,13,15,17,19,21,23,25,27,29,40,50] # smallest_leaf_ok\n",
    "hyperp_errors = np.zeros(len(hyperparam))\n",
    "for i in range(len(hyperparam)):\n",
    "    \n",
    "    smallest_leaf_permitted = hyperparam[i] ## set hyperparam\n",
    "    \n",
    "    for train, test in kf:\n",
    "        ktrain = strain_data[train]\n",
    "        ktrain_label = strain_labels[train]\n",
    "        ktest = strain_data[test]\n",
    "        ktrue = strain_labels[test]\n",
    "        \n",
    "        st = SpamTree(smallest_leaf_permitted)\n",
    "        st.train(st.root, ktrain, ktrain_label, 39) # used 39 depth, best smallest_leaf_permitted = 29\n",
    "        predn_labels = st.predict_all(ktest);\n",
    "        hyperp_errors[i]+=(np.sum(predn_labels != ktrue)/len(ktrue))*0.1"
   ]
  },
  {
   "cell_type": "code",
   "execution_count": 1321,
   "metadata": {
    "collapsed": false,
    "scrolled": true
   },
   "outputs": [
    {
     "data": {
      "text/plain": [
       "<matplotlib.text.Text at 0x118e40350>"
      ]
     },
     "execution_count": 1321,
     "metadata": {},
     "output_type": "execute_result"
    },
    {
     "data": {
      "image/png": "[encoded data removed]",
      "text/plain": [
       "<matplotlib.figure.Figure at 0x1190d2510>"
      ]
     },
     "metadata": {},
     "output_type": "display_data"
    }
   ],
   "source": [
    "plt.plot(hyperparam, hyperp_errors)\n",
    "# plt.xlim([0.2,23.2])\n",
    "plt.title('Result of K-fold CV for [hyperparam=smallest leaf] of Tree, with Depth = 39')\n",
    "plt.xlabel('[hyperparam=smallest leaf]')\n",
    "plt.ylabel('Average Error')"
   ]
  },
  {
   "cell_type": "code",
   "execution_count": 1319,
   "metadata": {
    "collapsed": false
   },
   "outputs": [
    {
     "data": {
      "text/plain": [
       "27"
      ]
     },
     "execution_count": 1319,
     "metadata": {},
     "output_type": "execute_result"
    }
   ],
   "source": [
    "hyperparam[np.argmin(hyperp_errors)]"
   ]
  },
  {
   "cell_type": "code",
   "execution_count": null,
   "metadata": {
    "collapsed": true
   },
   "outputs": [],
   "source": [
    "### end test hyperparam ###"
   ]
  },
  {
   "cell_type": "code",
   "execution_count": null,
   "metadata": {
    "collapsed": true
   },
   "outputs": [],
   "source": [
    "### Scratch Work Below ###"
   ]
  },
  {
   "cell_type": "code",
   "execution_count": null,
   "metadata": {
    "collapsed": true
   },
   "outputs": [],
   "source": [
    "# from lecture on 2016-03-14; confirmation of result at 1:01:05 in webcast."
   ]
  },
  {
   "cell_type": "code",
   "execution_count": null,
   "metadata": {
    "collapsed": false
   },
   "outputs": [],
   "source": [
    "classes = [0, 1]\n",
    "yy = np.array([0,0,0,0,0,0,0,0,0,0,0,0,0,1,1,1,1,0,1,1,1,1,1,1,1,1,1,1,1,1])\n",
    "ss = np.linspace(0, len(yy)-1, len(yy))\n",
    "ssleft = np.linspace(0,16,17, dtype=int)\n",
    "ssright = np.linspace(17,len(yy)-1,len(yy)-17, dtype=int)"
   ]
  },
  {
   "cell_type": "code",
   "execution_count": null,
   "metadata": {
    "collapsed": false,
    "scrolled": true
   },
   "outputs": [],
   "source": [
    "entropy(yy, classes, ssleft)"
   ]
  },
  {
   "cell_type": "code",
   "execution_count": null,
   "metadata": {
    "collapsed": false
   },
   "outputs": [],
   "source": [
    "entropy(yy, classes, ssright)"
   ]
  },
  {
   "cell_type": "code",
   "execution_count": null,
   "metadata": {
    "collapsed": false
   },
   "outputs": [],
   "source": [
    "information_gain(yy, classes, ss, ssleft, ssright)"
   ]
  },
  {
   "cell_type": "code",
   "execution_count": null,
   "metadata": {
    "collapsed": false
   },
   "outputs": [],
   "source": [
    "gini_impurity(yy, classes, ss)"
   ]
  },
  {
   "cell_type": "code",
   "execution_count": null,
   "metadata": {
    "collapsed": false
   },
   "outputs": [],
   "source": [
    "# we are breaking the index set S into pieces as we build the tree. Y containing our output classes is unchanged.\n",
    "# we make splits that maximize the information gain, which is measured using three index sets."
   ]
  },
  {
   "cell_type": "code",
   "execution_count": 1658,
   "metadata": {
    "collapsed": true
   },
   "outputs": [],
   "source": [
    "#     print('# before:',countnodesandleaves(atree.root))\n",
    "#     predn_labels = atree.predict_all(ktest);\n",
    "#     error_before = np.sum(ktrue != predn_labels)/len(ktrue)\n",
    "#     print('Error before', error_before)\n",
    "\n",
    "#     postprune(atree.root, atree, prune_data, prune_labels)\n",
    "\n",
    "#     print('# after:',countnodesandleaves(atree.root))\n",
    "#     predn_labels = atree.predict_all(ktest);\n",
    "#     error_after = np.sum(ktrue != predn_labels)/len(ktrue)\n",
    "#     print('Error after', error_after)"
   ]
  },
  {
   "cell_type": "code",
   "execution_count": 81,
   "metadata": {
    "collapsed": true
   },
   "outputs": [],
   "source": [
    "class SpamRandomForest:\n",
    "    \n",
    "    # features are all binarized, and we have only two classes.\n",
    "    class Node:\n",
    "        def __init__(self, left=None, right=None, label=None, split_rule=None):\n",
    "            self.left = left\n",
    "            self.right = right\n",
    "            self.label = label\n",
    "            self.split_rule = split_rule # (feature, threshhold)\n",
    "    \n",
    "    def __init__(self, SMALLEST_OK_LEAF=1, m=7):\n",
    "        # random subset features used at each split, size equals \"m\" in range [1,d].\n",
    "        self.m = m\n",
    "        self.SMALLEST_OK_LEAF = SMALLEST_OK_LEAF\n",
    "        self.root = self.Node()\n",
    "        \n",
    "    def segmenter(self, data, labels, depth):\n",
    "        # A method that takes in data and labels. When called, it finds the best split rule\n",
    "        # for a Node using the impurity measure and input data.\n",
    "        \n",
    "        # stopping conditions\n",
    "        if len(labels) <= self.SMALLEST_OK_LEAF:\n",
    "            return None\n",
    "        \n",
    "        if (np.sum(labels) == 0 or np.sum(labels) == len(labels)):\n",
    "            return None\n",
    "        \n",
    "#         features = np.random.permutation(len(data[0])-1)[:self.m] changed below\n",
    "        features = np.random.permutation(len(data[0]))[:self.m]\n",
    "        \n",
    "        # which feature to split on?\n",
    "        impurities = np.zeros(len(features))\n",
    "        for imp_idx in range(len(features)):\n",
    "            j = features[imp_idx]\n",
    "            # suppose split on j, quantify the split quality.\n",
    "            left_label_hist = [[0,0],[1,0]]\n",
    "            right_label_hist = [[0,0],[1,0]]\n",
    "                \n",
    "            left_label_hist[1][1] = np.sum(labels[np.where(data[:,j] < np.mean(data[:,j]))]) # number of ones in left split\n",
    "            right_label_hist[1][1] = np.sum(labels[np.where(data[:,j] >= np.mean(data[:,j]))])\n",
    "            left_label_hist[0][1] = len(labels[np.where(data[:,j] < np.mean(data[:,j]))]) - left_label_hist[1][1] # number of zeros (is the rest of left data)\n",
    "            right_label_hist[0][1] = len(labels[np.where(data[:,j] >= np.mean(data[:,j]))]) - right_label_hist[1][1]\n",
    "            \n",
    "#             print(features)\n",
    "            impurities[imp_idx] = checknan = self.WSE(left_label_hist, right_label_hist)\n",
    "\n",
    "            if (np.isnan(checknan)):\n",
    "                print('ENCOUNTERED NAN')\n",
    "                print(left_label_hist, right_label_hist)\n",
    "                \n",
    "        if np.min(impurities) == 0:\n",
    "            return None\n",
    "        \n",
    "        else:\n",
    "            return features[np.argmin(impurities)] # best feature\n",
    "        \n",
    "    def train(self, tree, data, labels, depth=2):\n",
    "        # Grows a decision tree by constructing nodes.\n",
    "        \n",
    "        # A stopping condition (too deep or empty node)\n",
    "        if depth <= 0 or len(data)==0:\n",
    "            average = np.sum(labels)/len(labels)\n",
    "            if average >= 0.5:\n",
    "                label = 1\n",
    "            else:\n",
    "                label = 0\n",
    "            tree.label = label\n",
    "            return tree\n",
    "        \n",
    "        split_point = self.segmenter(data, labels, depth)\n",
    "        if split_point == None:\n",
    "            if int(np.rint(np.mean(labels))) >= 1:\n",
    "                tree.label = 1\n",
    "            else:\n",
    "                tree.label = 0\n",
    "        else:\n",
    "            left_inds = np.where(data[:,split_point] < np.mean(data[:,split_point])) # maybe round up? nah\n",
    "            right_inds = np.where(data[:,split_point] >= np.mean(data[:,split_point]))\n",
    "            left_data = data[left_inds]\n",
    "            right_data = data[right_inds]\n",
    "            left_labels = labels[left_inds]\n",
    "            right_labels = labels[right_inds]\n",
    "            tree.split_rule = (split_point, np.mean(data[:,split_point]))\n",
    "            tree.left = self.train(self.Node(), left_data, left_labels, depth-1)\n",
    "            tree.right = self.train(self.Node(), right_data, right_labels, depth-1)\n",
    "        return tree\n",
    "\n",
    "    def predict(self, data, show=False, i=5):\n",
    "        # Traverses the tree to find the best label to classify the data point.\n",
    "        cur_node = self.root\n",
    "        origi = i\n",
    "        if show:\n",
    "            wohs = []\n",
    "        while (cur_node.label == None and i):\n",
    "            split_point = cur_node.split_rule[0]\n",
    "            thresh = cur_node.split_rule[1]\n",
    "            if show:\n",
    "                wohs += [ (split_point, data[split_point], thresh) ]\n",
    "                print(origi-i+1, split_point, data[split_point], thresh)\n",
    "                i-=1\n",
    "            if (data[split_point] < thresh):\n",
    "                cur_node = cur_node.left\n",
    "            else:\n",
    "                cur_node = cur_node.right\n",
    "            if (cur_node.label>1):\n",
    "                print(cur_node.split_rule)\n",
    "                print(cur_node.label)\n",
    "        if show:\n",
    "            return wohs\n",
    "        return int(cur_node.label)\n",
    "    \n",
    "    def predict_all(self, test_data):\n",
    "        predns = [0,0]\n",
    "        pred_labels = []\n",
    "        errors = 0\n",
    "        for i in range(len(test_data)):\n",
    "            sample = test_data[i]\n",
    "            predn = self.predict(sample)\n",
    "            if predn > 1:\n",
    "                print(predn)\n",
    "            predns[predn] += 1\n",
    "            pred_labels += [predn]\n",
    "        plt.stem(predns)\n",
    "        plt.xlim([-.2,1.2])\n",
    "        plt.title('Number of each class')\n",
    "        return np.array(pred_labels)\n",
    "    \n",
    "    def WSE(self, left_label_hist, right_label_hist):\n",
    "        return self.weighted_sum_of_entropy(left_label_hist, right_label_hist)\n",
    "    \n",
    "    def weighted_sum_of_entropy(self, left_label_hist, right_label_hist):\n",
    "        # we choose the split which MINimizes this quanitity\n",
    "        # for spam, two hists may be: ex. [( (0, 134), (1, 57)), ( (0, 12), (1, 19))]\n",
    "        # card_X -> cardinality of X histogram\n",
    "        card_left = left_label_hist[0][1] + left_label_hist[1][1]\n",
    "        card_right = right_label_hist[0][1] + right_label_hist[1][1]\n",
    "        return (card_left*self.entropy(left_label_hist) + card_right*self.entropy(right_label_hist))/(card_left+card_right+1e-11)\n",
    "    \n",
    "    def entropy(self, hist):\n",
    "        # of a node, often a proposed node.\n",
    "        # hist = (...,(feature_i, frequency),...)\n",
    "        total = hist[0][1] + hist[1][1] + 1e-15\n",
    "        prob0 = hist[0][1]/total\n",
    "        prob1 = hist[1][1]/total\n",
    "        return prob0*self.surprise(prob0) + prob1*self.surprise(prob1)\n",
    "        \n",
    "    def surprise(self, probability):\n",
    "        return -((np.log(probability + 1e-15))/np.log(2))\n",
    "\n",
    "    def impurity(self, left_label_hist, right_label_hist):\n",
    "    # A method that takes in the result of a split: two histograms (a histogram is a mapping\n",
    "    # from label values to their frequencies) that count the frequencies of labels on the ”left”\n",
    "    # and ”right” side of that split. The method calculates and outputs a scalar value\n",
    "    # representing the impurity (i.e. the ”badness”) of the specified split on the input data.\n",
    "    # for spam: ( (0, 134), (1, 57))\n",
    "        card_left = left_label_hist[0][1] + left_label_hist[1][1]\n",
    "        card_right = right_label_hist[0][1] + right_label_hist[1][1]\n",
    "        return ((card_left)*(gini_impurity(left_label_hist)) + (card_right)*(gini_impurity(right_label_hist)))/(card_left+card_right+1e-13)\n",
    "    \n",
    "def gini_impurity(hist):\n",
    "    # Y can be thought of as a vector of labels, where a label equals a class C in classes.\n",
    "    # we are only interested in the labels indexed by S. The other samples aren't being worked on.\n",
    "    sum_prob_squared = 0\n",
    "    card = hist[0][1] + hist[1][1]\n",
    "    sum_prob_squared = (hist[0][1]/(card+1e-13))**2 + (hist[1][1]/(card+1e-13))**2\n",
    "    return 1-sum_prob_squared\n",
    "\n",
    "\n",
    "# st.WSE(((0,13),(1,4)),((0,1),(1,12))) # test :D"
   ]
  },
  {
   "cell_type": "code",
   "execution_count": 73,
   "metadata": {
    "collapsed": false,
    "scrolled": true
   },
   "outputs": [
    {
     "name": "stderr",
     "output_type": "stream",
     "text": [
      "/usr/local/lib/python2.7/site-packages/ipykernel/__main__.py:62: RuntimeWarning: invalid value encountered in long_scalars\n"
     ]
    },
    {
     "name": "stdout",
     "output_type": "stream",
     "text": [
      "Error 0.084\n"
     ]
    },
    {
     "data": {
      "image/png": "[encoded data removed]",
      "text/plain": [
       "<matplotlib.figure.Figure at 0x1998db450>"
      ]
     },
     "metadata": {},
     "output_type": "display_data"
    }
   ],
   "source": [
    "forest_depth = 37\n",
    "biggest_stopping_point = 1\n",
    "m = 23\n",
    "\n",
    "st = SpamRandomForest(biggest_stopping_point,m)\n",
    "st.train(st.root, strain_data, strain_labels, forest_depth)\n",
    "predn_labels = st.predict_all(test_spam);\n",
    "print('Error', np.sum(predn_labels != test_spam_labels)/len(test_spam_labels))"
   ]
  },
  {
   "cell_type": "code",
   "execution_count": 76,
   "metadata": {
    "collapsed": false,
    "scrolled": true
   },
   "outputs": [
    {
     "name": "stdout",
     "output_type": "stream",
     "text": [
      "Error 0.0771461716937\n"
     ]
    },
    {
     "data": {
      "image/png": "[encoded data removed]",
      "text/plain": [
       "<matplotlib.figure.Figure at 0x19a616e90>"
      ]
     },
     "metadata": {},
     "output_type": "display_data"
    }
   ],
   "source": [
    "predn_labels = st.predict_all(strain_data);\n",
    "print('Error', np.sum(predn_labels != strain_labels)/len(strain_labels))"
   ]
  },
  {
   "cell_type": "code",
   "execution_count": 77,
   "metadata": {
    "collapsed": true
   },
   "outputs": [],
   "source": [
    "# Find best m (size of split subset)"
   ]
  },
  {
   "cell_type": "code",
   "execution_count": 38,
   "metadata": {
    "collapsed": false
   },
   "outputs": [
    {
     "name": "stderr",
     "output_type": "stream",
     "text": [
      "/usr/local/lib/python2.7/site-packages/ipykernel/__main__.py:61: RuntimeWarning: invalid value encountered in long_scalars\n"
     ]
    },
    {
     "data": {
      "image/png": "[encoded data removed]",
      "text/plain": [
       "<matplotlib.figure.Figure at 0x10d5952d0>"
      ]
     },
     "metadata": {},
     "output_type": "display_data"
    }
   ],
   "source": [
    "ms = [1,3,5,7,9,11,13,15,17,19,21,23,25,27,29,31,39,45,49]\n",
    "m_errors = np.zeros(len(ms))\n",
    "\n",
    "forest_depth = 37\n",
    "biggest_stopping_point = 1\n",
    "\n",
    "kf = KFold(strain_data.shape[0], n_folds=10, shuffle = True)\n",
    "\n",
    "for i in range(len(ms)):\n",
    "    for train, test in kf:\n",
    "        ktrain = strain_data[train]\n",
    "        ktrain_label = strain_labels[train]\n",
    "        ktest = strain_data[test]\n",
    "        ktrue = strain_labels[test]\n",
    "\n",
    "        srf = SpamRandomForest(biggest_stopping_point, ms[i])\n",
    "        srf.train(srf.root, ktrain, ktrain_label, forest_depth)\n",
    "\n",
    "        predn_labels = srf.predict_all(ktest);\n",
    "        m_errors[i] += (np.sum(predn_labels != ktrue)/len(ktrue))*0.1"
   ]
  },
  {
   "cell_type": "code",
   "execution_count": 39,
   "metadata": {
    "collapsed": false
   },
   "outputs": [
    {
     "data": {
      "text/plain": [
       "<matplotlib.text.Text at 0x10e557210>"
      ]
     },
     "execution_count": 39,
     "metadata": {},
     "output_type": "execute_result"
    },
    {
     "data": {
      "image/png": "[encoded data removed]",
      "text/plain": [
       "<matplotlib.figure.Figure at 0x10ea09e10>"
      ]
     },
     "metadata": {},
     "output_type": "display_data"
    }
   ],
   "source": [
    "plt.plot(ms, m_errors)\n",
    "plt.title('Result of K-fold CV for m value of Random Forest')\n",
    "plt.xlabel('m value')\n",
    "plt.ylabel('Average Error')"
   ]
  },
  {
   "cell_type": "code",
   "execution_count": 40,
   "metadata": {
    "collapsed": false
   },
   "outputs": [
    {
     "name": "stdout",
     "output_type": "stream",
     "text": [
      "39\n"
     ]
    }
   ],
   "source": [
    "print(ms[np.argmin(m_errors)])"
   ]
  },
  {
   "cell_type": "code",
   "execution_count": 43,
   "metadata": {
    "collapsed": false,
    "scrolled": true
   },
   "outputs": [
    {
     "name": "stderr",
     "output_type": "stream",
     "text": [
      "/usr/local/lib/python2.7/site-packages/ipykernel/__main__.py:61: RuntimeWarning: invalid value encountered in long_scalars\n"
     ]
    },
    {
     "data": {
      "image/png": "[encoded data removed]",
      "text/plain": [
       "<matplotlib.figure.Figure at 0x10e13e0d0>"
      ]
     },
     "metadata": {},
     "output_type": "display_data"
    }
   ],
   "source": [
    "hyperparam = [1,2,3,4,5,6,7,8,9,10,11,13,15,17,19,21,23,25,27,29,40,50] # smallest_leaf_ok\n",
    "hyp_errors = np.zeros(len(hyperparam))\n",
    "forest_depth = 37\n",
    "best_m = 39\n",
    "\n",
    "for i in range(len(hyperparam)):\n",
    "    for train, test in kf:\n",
    "        ktrain = strain_data[train]\n",
    "        ktrain_label = strain_labels[train]\n",
    "        ktest = strain_data[test]\n",
    "        ktrue = strain_labels[test]\n",
    "\n",
    "        srf = SpamRandomForest(hyperparam[i], best_m)\n",
    "        srf.train(srf.root, ktrain, ktrain_label, forest_depth)\n",
    "\n",
    "        predn_labels = srf.predict_all(ktest);\n",
    "        hyp_errors[i] += (np.sum(predn_labels != ktrue)/len(ktrue))*0.1"
   ]
  },
  {
   "cell_type": "code",
   "execution_count": 44,
   "metadata": {
    "collapsed": false
   },
   "outputs": [
    {
     "data": {
      "text/plain": [
       "<matplotlib.text.Text at 0x10d2bdb10>"
      ]
     },
     "execution_count": 44,
     "metadata": {},
     "output_type": "execute_result"
    },
    {
     "data": {
      "image/png": "[encoded data removed]",
      "text/plain": [
       "<matplotlib.figure.Figure at 0x10d595550>"
      ]
     },
     "metadata": {},
     "output_type": "display_data"
    }
   ],
   "source": [
    "plt.plot(hyperparam, hyp_errors)\n",
    "plt.title('Result of K-fold CV for biggest leaf size at which ok to stop growing branch for a Random Forest')\n",
    "plt.xlabel('hyperparam value')\n",
    "plt.ylabel('Average Error')"
   ]
  },
  {
   "cell_type": "code",
   "execution_count": 46,
   "metadata": {
    "collapsed": false
   },
   "outputs": [
    {
     "name": "stdout",
     "output_type": "stream",
     "text": [
      "7\n"
     ]
    }
   ],
   "source": [
    "print(hyperparam[np.argmin(hyp_errors)])"
   ]
  },
  {
   "cell_type": "code",
   "execution_count": 47,
   "metadata": {
    "collapsed": true
   },
   "outputs": [],
   "source": [
    "# Ensemble learning"
   ]
  },
  {
   "cell_type": "code",
   "execution_count": 5,
   "metadata": {
    "collapsed": true
   },
   "outputs": [],
   "source": [
    "def avg_prediction(trees, data):\n",
    "    predicted_labels = []\n",
    "    for tree in trees:\n",
    "        predicted_labels += [tree.predict_all(data)]\n",
    "    predicted_labels = np.array([predicted_labels])\n",
    "    return np.rint(np.mean(predicted_labels, axis = 1))"
   ]
  },
  {
   "cell_type": "code",
   "execution_count": 14,
   "metadata": {
    "collapsed": false,
    "scrolled": true
   },
   "outputs": [],
   "source": [
    "# Build a set of differently sampled forests. n = n'.\n",
    "\n",
    "best_stopping_point = 7\n",
    "forest_depth = 37\n",
    "best_m = 39\n",
    "woods = []\n",
    "errors = []\n",
    "\n",
    "number_of_forests = 40\n",
    "\n",
    "rand_test_inds = np.random.permutation(len(strain_data))[:880]\n",
    "random_test_data = strain_data[rand_test_inds]\n",
    "random_test_labels = strain_labels[rand_test_inds]\n",
    "\n",
    "# Select different sampled sets.\n",
    "for i in range(number_of_forests):\n",
    "    \n",
    "    bagged_inds = np.random.choice(len(strain_data), size=len(strain_data), replace=True)\n",
    "    \n",
    "    training_set = []\n",
    "    training_labels = []\n",
    "    for j in bagged_inds:\n",
    "        training_set += [strain_data[j]]\n",
    "        training_labels += [strain_labels[j]]\n",
    "    training_set = np.array(training_set)\n",
    "    training_labels = np.array(training_labels)\n",
    "\n",
    "    spam_rf = SpamRandomForest(best_stopping_point, best_m)\n",
    "    spam_rf.train(spam_rf.root, training_set, training_labels, forest_depth)\n",
    "    \n",
    "    woods += [spam_rf]\n",
    "    \n",
    "    avg_pdn = avg_prediction(woods, random_test_data)\n",
    "    error = np.sum(avg_pdn != random_test_labels)/len(random_test_labels)\n",
    "    print(i+1, error)\n",
    "    errors += [error]"
   ]
  },
  {
   "cell_type": "code",
   "execution_count": 72,
   "metadata": {
    "collapsed": false
   },
   "outputs": [
    {
     "data": {
      "text/plain": [
       "<matplotlib.text.Text at 0x1155ebc90>"
      ]
     },
     "execution_count": 72,
     "metadata": {},
     "output_type": "execute_result"
    },
    {
     "data": {
      "image/png": "[encoded data removed]",
      "text/plain": [
       "<matplotlib.figure.Figure at 0x10d2aaf50>"
      ]
     },
     "metadata": {},
     "output_type": "display_data"
    }
   ],
   "source": [
    "plt.plot(np.arange(number_of_forests), errors)\n",
    "plt.title('Number of forests in learner vs error on test set')\n",
    "plt.ylabel('Error')\n",
    "plt.xlabel('Number of forests')"
   ]
  },
  {
   "cell_type": "code",
   "execution_count": 91,
   "metadata": {
    "collapsed": false
   },
   "outputs": [
    {
     "data": {
      "text/plain": [
       "20"
      ]
     },
     "execution_count": 91,
     "metadata": {},
     "output_type": "execute_result"
    }
   ],
   "source": [
    "np.argmin(errors)"
   ]
  },
  {
   "cell_type": "code",
   "execution_count": 11,
   "metadata": {
    "collapsed": true
   },
   "outputs": [],
   "source": [
    "def generate_inds(data, percent_train, with_replacement=False):\n",
    "    if not with_replacement:\n",
    "        rand_inds = np.random.permutation(len(data))\n",
    "        train_inds = rand_inds[len(data)//percent_train:]\n",
    "        test_inds = rand_inds[:len(data)//percent_train]\n",
    "    else:\n",
    "        train_inds = np.random.choice(len(data), size=len(data), replace=True)\n",
    "        test_inds = np.random.permutation(len(data))[:len(data)//percent_train]\n",
    "    return train_inds, test_inds\n",
    "\n",
    "def avg_prediction(trees, data):\n",
    "    predicted_labels = []\n",
    "    for tree in trees:\n",
    "        predicted_labels += [tree.predict_all(data)]\n",
    "    predicted_labels = np.array([predicted_labels])\n",
    "    return np.rint(np.mean(predicted_labels, axis = 1))\n",
    "\n",
    "def grow_set_trees(num_trees, percent_train, data, labels, treetype='DecisionTree', depth=None, m=None, size_to_stop=None, bagging=False, prune=False):\n",
    "    trees = []\n",
    "    for t in range(num_trees):\n",
    "        print(t+1)\n",
    "        train_inds, unused = generate_inds(data, percent_train, with_replacement=bagging)\n",
    "        training = data[train_inds]\n",
    "        training_labels = labels[train_inds]\n",
    "\n",
    "        if treetype == 'RandomForest':\n",
    "            tree = SpamRandomForest(size_to_stop, m)\n",
    "  \n",
    "        tree.train(tree.root, data, labels, depth)\n",
    "\n",
    "        if prune:\n",
    "            XXX, prune_inds = generate_inds(data, percent_train)\n",
    "            pruneset = data[prune_inds]\n",
    "            prune_labels = labels[prune_inds]\n",
    "            postprune(tree.root, tree, pruneset, prune_labels)\n",
    "\n",
    "        trees += [tree]\n",
    "    return trees"
   ]
  },
  {
   "cell_type": "code",
   "execution_count": 92,
   "metadata": {
    "collapsed": false
   },
   "outputs": [
    {
     "name": "stderr",
     "output_type": "stream",
     "text": [
      "/usr/local/lib/python2.7/site-packages/ipykernel/__main__.py:61: RuntimeWarning: invalid value encountered in long_scalars\n"
     ]
    }
   ],
   "source": [
    "# Build a set of differently sampled forests. n = n'.\n",
    "\n",
    "best_stopping_point = 7\n",
    "forest_depth = 37\n",
    "best_m = 39\n",
    "\n",
    "number_of_forests = 20 # best result\n",
    "\n",
    "# Select different sampled sets.\n",
    "for i in range(number_of_forests):\n",
    "    \n",
    "    bagged_inds = np.random.choice(len(strain_data), size=len(strain_data), replace=True)\n",
    "    \n",
    "    training_set = []\n",
    "    training_labels = []\n",
    "    for j in bagged_inds:\n",
    "        training_set += [strain_data[j]]\n",
    "        training_labels += [strain_labels[j]]\n",
    "    training_set = np.array(training_set)\n",
    "    training_labels = np.array(training_labels)\n",
    "\n",
    "    kaggle_spam_rf = SpamRandomForest(best_stopping_point, best_m)\n",
    "    kaggle_spam_rf.train(kaggle_spam_rf.root, training_set, training_labels, forest_depth)\n",
    "    \n",
    "    woods += [kaggle_spam_rf]"
   ]
  },
  {
   "cell_type": "code",
   "execution_count": 82,
   "metadata": {
    "collapsed": false
   },
   "outputs": [
    {
     "name": "stdout",
     "output_type": "stream",
     "text": [
      "1\n"
     ]
    },
    {
     "name": "stderr",
     "output_type": "stream",
     "text": [
      "/usr/local/lib/python2.7/site-packages/ipykernel/__main__.py:62: RuntimeWarning: invalid value encountered in long_scalars\n"
     ]
    },
    {
     "name": "stdout",
     "output_type": "stream",
     "text": [
      "2\n",
      "3\n",
      "4\n",
      "5\n",
      "6\n",
      "7\n",
      "8\n",
      "9\n",
      "10\n",
      "11\n",
      "12\n",
      "13\n",
      "14\n",
      "15\n",
      "16\n",
      "17\n",
      "18\n",
      "19\n",
      "20\n",
      "Error of 20 random forests: 0.109090909091\n"
     ]
    },
    {
     "data": {
      "image/png": "[encoded data removed]",
      "text/plain": [
       "<matplotlib.figure.Figure at 0x19cdc2110>"
      ]
     },
     "metadata": {},
     "output_type": "display_data"
    }
   ],
   "source": [
    "num_trees = 20\n",
    "pt = 10\n",
    "treetype = 'RandomForest'\n",
    "depth = 37\n",
    "m = 8\n",
    "size_to_stop = 7\n",
    "bagging = True\n",
    "prune = False\n",
    "\n",
    "random_forests = grow_set_trees(num_trees, pt, strain_data, strain_labels, treetype, depth, m, size_to_stop, bagging, prune)\n",
    "\n",
    "avg_predn_forests_labels = avg_prediction(random_forests, random_test_data)\n",
    "print('Error of 20 random forests:', np.sum(avg_predn_forests_labels != random_test_labels)/len(random_test_labels))"
   ]
  },
  {
   "cell_type": "code",
   "execution_count": 85,
   "metadata": {
    "collapsed": false,
    "scrolled": true
   },
   "outputs": [],
   "source": [
    "# seen = []\n",
    "# for r in random_forests:\n",
    "#     seen+=[r.predict(strain_data[666],show=True)]"
   ]
  },
  {
   "cell_type": "code",
   "execution_count": 22,
   "metadata": {
    "collapsed": false
   },
   "outputs": [
    {
     "name": "stdout",
     "output_type": "stream",
     "text": [
      "ERROR! Session/line number was not unique in database. History logging moved to new session 1082\n"
     ]
    }
   ],
   "source": [
    "# # ('Error of 20 pruned forests:', 0.125)\n",
    "# pruned_forests = []\n",
    "# count = 0\n",
    "# for rf in random_forests:\n",
    "    \n",
    "#     print('before', count, countnodesandleaves(rf.root))\n",
    "    \n",
    "#     XXX, prune_inds = generate_inds(strain_data, pt)\n",
    "#     pruneset = strain_data[prune_inds]\n",
    "#     prune_labels = strain_labels[prune_inds]\n",
    "#     postprune(rf.root, rf, pruneset, prune_labels)\n",
    "    \n",
    "#     print('after', count, countnodesandleaves(rf.root))\n",
    "\n",
    "#     pruned_forests += [rf]\n",
    "#     count+=1\n",
    "\n",
    "# avg_predn_pruned_forests_labels = avg_prediction(pruned_forests, random_test_data)\n",
    "# print('Error of 20 pruned forests:', np.sum(avg_predn_pruned_forests_labels != random_test_labels)/len(random_test_labels))"
   ]
  },
  {
   "cell_type": "code",
   "execution_count": 38,
   "metadata": {
    "collapsed": true
   },
   "outputs": [],
   "source": [
    "# 0.77418 Kaggle Score for Spam Data"
   ]
  },
  {
   "cell_type": "code",
   "execution_count": 32,
   "metadata": {
    "collapsed": false
   },
   "outputs": [
    {
     "data": {
      "image/png": "[encoded data removed]",
      "text/plain": [
       "<matplotlib.figure.Figure at 0x10f3ef190>"
      ]
     },
     "metadata": {},
     "output_type": "display_data"
    }
   ],
   "source": [
    "kaggle_spam_pdn_labels = np.array(avg_prediction(random_forests, stest_data))[0]\n",
    "save_labels(kaggle_spam_pdn_labels, 'spam_random_forest_666999.csv')\n",
    "np.sum(kaggle_spam_pdn_labels)/len(kaggle_spam_pdn_labels)"
   ]
  }
 ],
 "metadata": {
  "kernelspec": {
   "display_name": "Python 2",
   "language": "python",
   "name": "python2"
  },
  "language_info": {
   "codemirror_mode": {
    "name": "ipython",
    "version": 2
   },
   "file_extension": ".py",
   "mimetype": "text/x-python",
   "name": "python",
   "nbconvert_exporter": "python",
   "pygments_lexer": "ipython2",
   "version": "2.7.9"
  }
 },
 "nbformat": 4,
 "nbformat_minor": 0
}
