{
 "cells": [
  {
   "cell_type": "code",
   "execution_count": 323,
   "metadata": {
    "collapsed": true
   },
   "outputs": [],
   "source": [
    "# Alex Walczak | CS 189 | Homework 5 part 2: Decision Trees, Random Forests for Census Data\n",
    "\n",
    "# Import functions and libraries\n",
    "from __future__ import division\n",
    "import numpy as np, matplotlib.pyplot as plt\n",
    "from matplotlib.pyplot import *\n",
    "from mpl_toolkits.mplot3d import Axes3D\n",
    "from matplotlib import cm\n",
    "from matplotlib.ticker import LinearLocator, FormatStrFormatter\n",
    "import scipy.io\n",
    "from scipy import signal\n",
    "from mpl_toolkits.axes_grid1 import make_axes_locatable\n",
    "from pylab import rcParams\n",
    "from sklearn.cross_validation import KFold\n",
    "from sklearn.feature_extraction import DictVectorizer\n",
    "from sklearn.preprocessing import Imputer\n",
    "rcParams['figure.figsize'] = 7, 7\n",
    "import csv\n",
    "%matplotlib inline"
   ]
  },
  {
   "cell_type": "code",
   "execution_count": 575,
   "metadata": {
    "collapsed": false
   },
   "outputs": [],
   "source": [
    "### Imputing helpers\n",
    "\n",
    "def most_freq_string(array):\n",
    "    unique, all_inds_in_unique_for_items_in_array = np.unique(array,return_inverse=True)\n",
    "    most_freq = unique[np.bincount(all_inds_in_unique_for_items_in_array).argmax()]\n",
    "    return most_freq\n",
    "\n",
    "def get_most_freq_feats(data, missing_value_symbol, categories, categorical_feats):\n",
    "    # Arguments is a data matrix with each row being a sample.\n",
    "    # Takes a majority vote on categorical features and computes mean on numerical features.\n",
    "    clean_feats = np.array([np.array([feat for feat in complete_feat if feat != missing_value_symbol]) for complete_feat in data.T])\n",
    "    res = []\n",
    "    for j in range(len(clean_feats)): # each feature\n",
    "        if categories[j] in categorical_feats:\n",
    "            res += [most_freq_string(clean_feats[j])]\n",
    "        else:\n",
    "            res += [str(np.mean(clean_feats[j].astype(np.float)))]\n",
    "    return np.array(res)\n",
    "\n",
    "def impute_missing_value(data, replace_bad_feats_with, missing_value_symbol):\n",
    "    # Arguments is a data matrix.\n",
    "    for row in data:\n",
    "        row[row == missing_value_symbol] = replace_bad_feats_with[row == missing_value_symbol]\n",
    "        \n",
    "### Evaluating splits\n",
    "        \n",
    "def probability(Y, C, S, distbn=None):\n",
    "# probability of random variable Y being in class C\n",
    "# index set S\n",
    "    count = 0\n",
    "    for i in S:\n",
    "        if Y[int(i)] == C:\n",
    "            count += 1\n",
    "    return count/len(S)\n",
    "\n",
    "def surprise(Y, C, S):\n",
    "# surprise of random variable Y being in class C\n",
    "    return -probability(Y, C, S)*((np.log(probability(Y, C, S)))/np.log(2))\n",
    "\n",
    "def entropy(Y, classes, S):\n",
    "# entropy of an index set S\n",
    "# max = 1 occurs when Y is evenly split [ range = [0,1] ]\n",
    "# (updating of entropy will be optimized, this is a naive version)\n",
    "    H = 0\n",
    "    for C in classes:\n",
    "        H += surprise(Y, C, S)\n",
    "    return H\n",
    "\n",
    "def information_gain(Y, classes, S, Sleft, Sright):\n",
    "    # change in entropy resulting from a split\n",
    "    # we choose the split which maximizes this quanitity\n",
    "    Hafter = (len(Sleft)*entropy(Y, classes, Sleft) + len(Sright)*entropy(Y, classes, Sright))/len(S)\n",
    "    return entropy(Y, classes, S) - Hafter\n",
    "\n",
    "def weighted_sum_of_entropy(Y, classes, S, Sleft, Sright):\n",
    "    # we choose the split which MINimizes this quanitity\n",
    "    Hafter = (len(Sleft)*entropy(Y, classes, Sleft) + len(Sright)*entropy(Y, classes, Sright))/len(S)\n",
    "    return entropy(Y, classes, S) - Hafter\n",
    "\n",
    "def gini_impurity(Y, classes, S):\n",
    "    # Y can be thought of as a vector of labels, where a label equals a class C in classes.\n",
    "    # we are only interested in the labels indexed by S. The other samples aren't being worked on.\n",
    "    sum_prob_squared = 0\n",
    "    for C in classes:\n",
    "        sum_prob_squared+=(probability(Y, C, S)**2)\n",
    "    return 1-sum_prob_squared\n",
    "\n",
    "### Pruning-related\n",
    "\n",
    "def postprune(node, ogtree, tdata, tlabels):\n",
    "    if node == None:\n",
    "        return\n",
    "    if node.label!=None:\n",
    "        return\n",
    "        \n",
    "    postprune(node.left, ogtree, tdata, tlabels)\n",
    "    postprune(node.right, ogtree, tdata, tlabels)\n",
    "    \n",
    "    error_before = np.sum(tlabels != ogtree.predict_all(tdata))/len(tlabels)\n",
    "    testasleaf(node)\n",
    "    error_after = np.sum(tlabels != ogtree.predict_all(tdata))/len(tlabels)\n",
    "\n",
    "    if error_after <= error_before:\n",
    "        converttoleaf(node)\n",
    "    else:\n",
    "        undotestasleaf(node)\n",
    "\n",
    "def testasleaf(node):\n",
    "    # if a node label is not None, the children are never looked at. \n",
    "    # so to prune, we can just set node labels!\n",
    "    if int(np.rint(node.split_rule[1])) >= 1:\n",
    "        node.label = 1\n",
    "    else:\n",
    "        node.label = 0\n",
    "\n",
    "def undotestasleaf(node):\n",
    "    node.label = None\n",
    "    \n",
    "def converttoleaf(node):\n",
    "    node.left = None\n",
    "    node.right = None\n",
    "    node.split_rule = None\n",
    "\n",
    "def countnodesandleaves(node):\n",
    "    if node == None:\n",
    "        return 0\n",
    "    if node.label != None:\n",
    "        return 1\n",
    "    else:\n",
    "        return 1 + countnodesandleaves(node.left) + countnodesandleaves(node.right)\n",
    "    \n",
    "### Uncategorized functions\n",
    "\n",
    "from __future__ import print_function\n",
    "\n",
    "# Ex. save_labels(spam_labels,'kaggle_spam_mean.csv')\n",
    "def save_labels(labels, fname):\n",
    "    f1 = open(fname, 'w+')\n",
    "    print('Id,Category', file = f1)\n",
    "    for i in range(len(labels)):\n",
    "        print(str(i+1)+\",\"+str(int(labels[i])), file = f1)\n",
    "\n",
    "def generate_inds(data, percent_train, with_replacement=False):\n",
    "    if not with_replacement:\n",
    "        rand_inds = np.random.permutation(len(data))\n",
    "        train_inds = rand_inds[len(data)//percent_train:]\n",
    "        test_inds = rand_inds[:len(data)//percent_train]\n",
    "    else:\n",
    "        train_inds = np.random.choice(len(data), size=len(data), replace=True)\n",
    "        test_inds = np.random.permutation(len(data))[:len(data)//percent_train]\n",
    "    return train_inds, test_inds\n",
    "\n",
    "def avg_prediction(trees, data):\n",
    "    predicted_labels = []\n",
    "    for tree in trees:\n",
    "        predicted_labels += [tree.predict_all(data)]\n",
    "    predicted_labels = np.array([predicted_labels])\n",
    "    return np.rint(np.mean(predicted_labels, axis = 1))\n",
    "\n",
    "def grow_set_trees(num_trees, percent_train, data, labels, treetype='DecisionTree', depth=None, m=None, size_to_stop=None, bagging=False, prune=False):\n",
    "    trees = []\n",
    "    for t in range(num_trees):\n",
    "        print(t+1)\n",
    "        train_inds, unused = generate_inds(data, percent_train, with_replacement=bagging)\n",
    "        training = data[train_inds]\n",
    "        training_labels = labels[train_inds]\n",
    "        \n",
    "        if treetype == 'DecisionTree':\n",
    "            tree = DecisionTree(size_to_stop)\n",
    "        if treetype == 'RandomForest':\n",
    "            tree = RandomForest(size_to_stop, m)\n",
    "  \n",
    "        tree.train(tree.root, data, labels, depth)\n",
    "\n",
    "        if prune:\n",
    "            XXX, prune_inds = generate_inds(data, percent_train)\n",
    "            pruneset = data[prune_inds]\n",
    "            prune_labels = labels[prune_inds]\n",
    "            postprune(tree.root, tree, pruneset, prune_labels)\n",
    "\n",
    "        trees += [tree]\n",
    "    return trees\n",
    "\n",
    "### Cross validation functions\n",
    "\n",
    "def kfold(k, which, data, labels, hyperparam_set, treetype='DecisionTree', depth=None, m=None, size_to_stop=None, bagging=False):\n",
    "    \"\"\"which is one of: 'depth', 'm', 'size_to_stop'.\"\"\"\n",
    "    if which == 'depth':\n",
    "        kfold_depth(k, data, labels, hyperparam_set, treetype, depth, m, size_to_stop, bagging)\n",
    "        return\n",
    "    \n",
    "    if which == 'm':\n",
    "        assert treetype == 'RandomForest'\n",
    "        kfold_m(k, data, labels, hyperparam_set, 'RandomForest', depth, m, size_to_stop, bagging)\n",
    "        return\n",
    "    \n",
    "    if which == 'size_to_stop':\n",
    "        kfold_size_to_stop(k, data, labels, hyperparam_set, treetype, depth, m, size_to_stop, bagging)\n",
    "        return\n",
    "\n",
    "def kfold_m(k, data, labels, ms, treetype='RandomForest', depth=None, m=None, size_to_stop=None, bagging=False):\n",
    "    kf = KFold(data.shape[0], n_folds=k, shuffle = True)\n",
    "    m_errors = np.zeros(len(ms))\n",
    "\n",
    "    for i in range(len(ms)):\n",
    "\n",
    "        print('At m:', ms[i])\n",
    "\n",
    "        for train, test in kf:\n",
    "\n",
    "            ktrain = data[train]\n",
    "            ktrain_label = labels[train]\n",
    "            ktest = data[test]\n",
    "            ktrue = labels[test]\n",
    "\n",
    "            tree = RandomForest(size_to_stop, ms[i])\n",
    "            tree.train(tree.root, ktrain, ktrain_label, depth)\n",
    "\n",
    "            predn_labels = tree.predict_all(ktest);\n",
    "            m_errors[i] += (np.sum(predn_labels != ktrue)/len(ktrue))*(1/k)\n",
    "\n",
    "        print('Error:', m_errors[i])\n",
    "\n",
    "    plt.figure()\n",
    "    plt.plot(ms, m_errors)\n",
    "    plt.title('Result of K-fold CV for m value of '+treetype+', size_to_stop = '+str(size_to_stop)+', depth = '+str(depth))\n",
    "    plt.xlabel('m value')\n",
    "    plt.ylabel('Average Error')\n",
    "    \n",
    "    print('Best m:',ms[m_errors.argmin()])\n",
    "\n",
    "def kfold_depth(k, data, labels, depths, treetype='DecisionTree', depth=None, m=None, size_to_stop=None, bagging=False):\n",
    "    kf = KFold(data.shape[0], n_folds=k, shuffle = True)\n",
    "    depth_errors = np.zeros(len(depths))\n",
    "\n",
    "    for i in range(len(depths)):\n",
    "\n",
    "        print('At depth:', depths[i])\n",
    "\n",
    "        for train, test in kf:\n",
    "\n",
    "            ktrain = data[train]\n",
    "            ktrain_label = labels[train]\n",
    "            ktest = data[test]\n",
    "            ktrue = labels[test]\n",
    "\n",
    "            if treetype == 'DecisionTree':\n",
    "                tree = DecisionTree(size_to_stop)\n",
    "            if treetype == 'RandomForest':\n",
    "                tree = RandomForest(size_to_stop, m)\n",
    "            tree.train(tree.root, ktrain, ktrain_label, depths[i])\n",
    "\n",
    "            predn_labels = tree.predict_all(ktest)\n",
    "            depth_errors[i]+=(np.sum(predn_labels != ktrue)/len(ktrue))*(1/k)\n",
    "\n",
    "        print('Error:', depth_errors[i])\n",
    "\n",
    "    plt.figure()\n",
    "    plt.plot(depths, depth_errors)\n",
    "    plt.title('Result of K-fold CV for Depth of '+treetype+', size_to_stop = '+str(size_to_stop))\n",
    "    plt.xlabel('Depth')\n",
    "    plt.ylabel('Average Error')\n",
    "    \n",
    "    print('Best depth:',depths[depth_errors.argmin()])\n",
    "    \n",
    "def kfold_size_to_stop(k, data, labels, s2s, treetype='DecisionTree', depth=None, m=None, size_to_stop=None, bagging=False):\n",
    "    kf = KFold(data.shape[0], n_folds=k, shuffle = True)\n",
    "    s2s_errors = np.zeros(len(s2s))\n",
    "\n",
    "    for i in range(len(s2s)):\n",
    "\n",
    "        print('At size_to_stop:', s2s[i])\n",
    "\n",
    "        for train, test in kf:\n",
    "\n",
    "            ktrain = data[train]\n",
    "            ktrain_label = labels[train]\n",
    "            ktest = data[test]\n",
    "            ktrue = labels[test]\n",
    "\n",
    "            if treetype == 'DecisionTree':\n",
    "                tree = DecisionTree(s2s[i])\n",
    "            if treetype == 'RandomForest':\n",
    "                tree = RandomForest(s2s[i], m)\n",
    "            tree.train(tree.root, ktrain, ktrain_label, depth)\n",
    "\n",
    "            predn_labels = tree.predict_all(ktest)\n",
    "            s2s_errors[i]+=(np.sum(predn_labels != ktrue)/len(ktrue))*(1/k)\n",
    "\n",
    "        print('Error:', s2s_errors[i])\n",
    "\n",
    "    plt.figure()\n",
    "    plt.plot(s2s, s2s_errors)\n",
    "    plt.title('Result of K-fold CV for size_to_stop of '+treetype+', depth = '+str(depth))\n",
    "    plt.xlabel('Size_to_stop')\n",
    "    plt.ylabel('Average Error')\n",
    "    \n",
    "    print('Best size_to_stop:',s2s[s2s_errors.argmin()])"
   ]
  },
  {
   "cell_type": "code",
   "execution_count": 716,
   "metadata": {
    "collapsed": true
   },
   "outputs": [],
   "source": [
    "class DecisionTree:\n",
    "    # for two-class data with binary features vectorized samples.\n",
    "    class Node:\n",
    "        def __init__(self, left=None, right=None, label=None, split_rule=None):\n",
    "            self.left = left\n",
    "            self.right = right\n",
    "            self.label = label\n",
    "            self.split_rule = split_rule # (feature, threshhold)\n",
    "    \n",
    "    def __init__(self, SMALLEST_OK_LEAF=1):\n",
    "        self.SMALLEST_OK_LEAF = SMALLEST_OK_LEAF\n",
    "        self.root = self.Node()\n",
    "        \n",
    "    def segmenter(self, data, labels, depth):\n",
    "        # A method that takes in data and labels. When called, it finds the best split rule\n",
    "        # for a Node using the impurity measure and input data.\n",
    "        \n",
    "        # stopping conditions\n",
    "        if len(labels) <= self.SMALLEST_OK_LEAF:\n",
    "            return None\n",
    "        \n",
    "        if (np.sum(labels) == 0 or np.sum(labels) == len(labels)):\n",
    "            return None\n",
    "        \n",
    "        num_features = len(data[0])\n",
    "        \n",
    "        # which feature to split on?\n",
    "        impurities = np.zeros(num_features)\n",
    "        for j in range(num_features):\n",
    "            # suppose split on j, quantify the split quality.\n",
    "            left_label_hist = [[0,0],[1,0]]\n",
    "            right_label_hist = [[0,0],[1,0]]\n",
    "                \n",
    "            left_label_hist[1][1] = np.sum(labels[np.where(data[:,j] == 0)]) # number of ones in left split\n",
    "            right_label_hist[1][1] = np.sum(labels[np.where(data[:,j] == 1)])\n",
    "            left_label_hist[0][1] = len(labels[np.where(data[:,j] == 0)]) - left_label_hist[1][1] # number of zeros (is the rest of left data)\n",
    "            right_label_hist[0][1] = len(labels[np.where(data[:,j] == 1)]) - right_label_hist[1][1]\n",
    "\n",
    "            impurities[j] = self.impurity(left_label_hist, right_label_hist)\n",
    "            if (np.isnan(impurities[j])):\n",
    "                print('ENCOUNTERED NAN')\n",
    "                print(left_label_hist, right_label_hist)\n",
    "                \n",
    "        if np.min(impurities) == 0:\n",
    "            return None\n",
    "        \n",
    "        else:\n",
    "            return np.argmin(impurities) # best feature\n",
    "        \n",
    "    def train(self, tree, data, labels, depth=2):\n",
    "        # Grows a decision tree by constructing nodes.\n",
    "        \n",
    "        # A stopping condition (too deep or empty node)\n",
    "        if depth <= 0 or len(data)==0:\n",
    "            average = np.sum(labels)/len(labels)\n",
    "            if average >= 0.5:\n",
    "                label = 1\n",
    "            else:\n",
    "                label = 0\n",
    "            tree.label = label\n",
    "            return tree\n",
    "        \n",
    "        split_point = self.segmenter(data, labels, depth)\n",
    "        if split_point == None:\n",
    "            if int(np.rint(np.mean(labels))) >= 1:\n",
    "                tree.label = 1\n",
    "            else:\n",
    "                tree.label = 0\n",
    "        else:\n",
    "            left_inds = np.where(data[:,split_point] == 0)\n",
    "            right_inds = np.where(data[:,split_point] == 1)\n",
    "            left_data = data[left_inds]\n",
    "            right_data = data[right_inds]\n",
    "            left_labels = labels[left_inds]\n",
    "            right_labels = labels[right_inds]\n",
    "            tree.split_rule = (split_point, np.mean(data[:,split_point]))\n",
    "            tree.left = self.train(self.Node(), left_data, left_labels, depth-1)\n",
    "            tree.right = self.train(self.Node(), right_data, right_labels, depth-1)\n",
    "        return tree\n",
    "\n",
    "    def predict(self, data, show=False, i=5):\n",
    "        # Traverses the tree to find the best label to classify the data point.\n",
    "        cur_node = self.root\n",
    "        origi = i\n",
    "        if show:\n",
    "            wohs = []\n",
    "        while (cur_node.label == None and i):\n",
    "            split_point = cur_node.split_rule[0]\n",
    "            thresh = cur_node.split_rule[1]\n",
    "            if show:\n",
    "                wohs += [ (split_point, data[split_point], thresh) ]\n",
    "                print(origi-i+1, split_point, data[split_point], thresh)\n",
    "                i-=1\n",
    "            if (data[split_point] < thresh):\n",
    "                cur_node = cur_node.left\n",
    "            else:\n",
    "                cur_node = cur_node.right\n",
    "            if (cur_node.label>1):\n",
    "                print(cur_node.split_rule)\n",
    "                print(cur_node.label)\n",
    "        return int(cur_node.label)\n",
    "    \n",
    "    def predict_all(self, test_data):\n",
    "        predns = [0,0]\n",
    "        pred_labels = []\n",
    "        errors = 0\n",
    "        for i in range(len(test_data)):\n",
    "            sample = test_data[i]\n",
    "            predn = self.predict(sample)\n",
    "            if predn > 1:\n",
    "                print(predn)\n",
    "            predns[predn] += 1\n",
    "            pred_labels += [predn]\n",
    "        plt.stem(predns)\n",
    "        plt.xlim([-.2,1.2])\n",
    "        plt.title('Number of each class')\n",
    "#         print('Preidcted 1 : Total ratio =', predns[1]/len(test_data))\n",
    "        return np.array(pred_labels)\n",
    "    \n",
    "    def WSE(self, left_label_hist, right_label_hist):\n",
    "        return self.weighted_sum_of_entropy(left_label_hist, right_label_hist)\n",
    "    \n",
    "    def weighted_sum_of_entropy(self, left_label_hist, right_label_hist):\n",
    "        # we choose the split which MINimizes this quanitity\n",
    "        # for spam, two hists may be: ex. [( (0, 134), (1, 57)), ( (0, 12), (1, 19))]\n",
    "        # card_X -> cardinality of X histogram\n",
    "        card_left = left_label_hist[0][1] + left_label_hist[1][1]\n",
    "        card_right = right_label_hist[0][1] + right_label_hist[1][1]\n",
    "        return (card_left*self.entropy(left_label_hist) + card_right*self.entropy(right_label_hist))/(card_left+card_right+1e-11)\n",
    "    \n",
    "    def entropy(self, hist):\n",
    "        # of a node, often a proposed node.\n",
    "        # hist = (...,(feature_i, frequency),...)\n",
    "        total = hist[0][1] + hist[1][1] + 1e-15\n",
    "        prob0 = hist[0][1]/total\n",
    "        prob1 = hist[1][1]/total\n",
    "        return prob0*self.surprise(prob0) + prob1*self.surprise(prob1)\n",
    "        \n",
    "    def surprise(self, probability):\n",
    "        return -((np.log(probability + 1e-15))/np.log(2))\n",
    "\n",
    "    def impurity(self, left_label_hist, right_label_hist):\n",
    "    # A method that takes in the result of a split: two histograms (a histogram is a mapping\n",
    "    # from label values to their frequencies) that count the frequencies of labels on the ”left”\n",
    "    # and ”right” side of that split. The method calculates and outputs a scalar value\n",
    "    # representing the impurity (i.e. the ”badness”) of the specified split on the input data.\n",
    "    # for spam: ( (0, 134), (1, 57))\n",
    "        card_left = left_label_hist[0][1] + left_label_hist[1][1]\n",
    "        card_right = right_label_hist[0][1] + right_label_hist[1][1]\n",
    "        return ((card_left)*(gini_impurity(left_label_hist)) + (card_right)*(gini_impurity(right_label_hist)))/(card_left+card_right+1e-13)\n",
    "    \n",
    "def gini_impurity(hist):\n",
    "    # Y can be thought of as a vector of labels, where a label equals a class C in classes.\n",
    "    # we are only interested in the labels indexed by S. The other samples aren't being worked on.\n",
    "    sum_prob_squared = 0\n",
    "    card = hist[0][1] + hist[1][1]\n",
    "    sum_prob_squared = (hist[0][1]/(card+1e-13))**2 + (hist[1][1]/(card+1e-13))**2\n",
    "    return 1-sum_prob_squared"
   ]
  },
  {
   "cell_type": "code",
   "execution_count": 717,
   "metadata": {
    "collapsed": true
   },
   "outputs": [],
   "source": [
    "class RandomForest:\n",
    "    # for two-class data with binary features vectorized samples.\n",
    "    class Node:\n",
    "        def __init__(self, left=None, right=None, label=None, split_rule=None):\n",
    "            self.left = left\n",
    "            self.right = right\n",
    "            self.label = label\n",
    "            self.split_rule = split_rule # (feature, threshhold)\n",
    "    \n",
    "    def __init__(self, SMALLEST_OK_LEAF=1, m=7):\n",
    "        # random subset features used at each split, size equals \"m\" in range [1,d].\n",
    "        self.m = m\n",
    "        self.SMALLEST_OK_LEAF = SMALLEST_OK_LEAF\n",
    "        self.root = self.Node()\n",
    "        \n",
    "    def segmenter(self, data, labels, depth):\n",
    "        # A method that takes in data and labels. When called, it finds the best split rule\n",
    "        # for a Node using the impurity measure and input data.\n",
    "        \n",
    "        # stopping conditions\n",
    "        if len(labels) <= self.SMALLEST_OK_LEAF:\n",
    "            return None\n",
    "        \n",
    "        if (np.sum(labels) == 0 or np.sum(labels) == len(labels)):\n",
    "            return None\n",
    "        \n",
    "        # Random Subspace Selection\n",
    "        features = np.random.permutation(len(data[0]))[:self.m]\n",
    "        \n",
    "        # which feature to split on?\n",
    "        impurities = np.zeros(len(features))\n",
    "        for imp_idx in range(len(features)):\n",
    "            j = features[imp_idx]\n",
    "            # suppose split on j, quantify the split quality.\n",
    "            left_label_hist = [[0,0],[1,0]]\n",
    "            right_label_hist = [[0,0],[1,0]]\n",
    "                \n",
    "            left_label_hist[1][1] = np.sum(labels[np.where(data[:,j] == 0)]) # number of ones in left split\n",
    "            right_label_hist[1][1] = np.sum(labels[np.where(data[:,j] == 1)])\n",
    "            left_label_hist[0][1] = len(labels[np.where(data[:,j] == 0)]) - left_label_hist[1][1] # number of zeros (is the rest of left data)\n",
    "            right_label_hist[0][1] = len(labels[np.where(data[:,j] == 1)]) - right_label_hist[1][1]\n",
    "            \n",
    "            impurities[imp_idx] = checknan = self.impurity(left_label_hist, right_label_hist)\n",
    "\n",
    "            if (np.isnan(checknan)):\n",
    "                print('ENCOUNTERED NAN')\n",
    "                print(left_label_hist, right_label_hist)\n",
    "                \n",
    "        if np.min(impurities) == 0:\n",
    "            return None\n",
    "        \n",
    "        else:\n",
    "            return features[np.argmin(impurities)] # best feature is indexed in features!\n",
    "        \n",
    "    def train(self, tree, data, labels, depth=2):\n",
    "        # Grows a decision tree by constructing nodes.\n",
    "        \n",
    "        # A stopping condition (too deep or empty node)\n",
    "        if depth <= 0 or len(data)==0:\n",
    "            average = np.sum(labels)/len(labels)\n",
    "            if average >= 0.5:\n",
    "                label = 1\n",
    "            else:\n",
    "                label = 0\n",
    "            tree.label = label\n",
    "            return tree\n",
    "        \n",
    "        split_point = self.segmenter(data, labels, depth)\n",
    "        if split_point == None:\n",
    "            if int(np.rint(np.mean(labels))) >= 1:\n",
    "                tree.label = 1\n",
    "            else:\n",
    "                tree.label = 0\n",
    "        else:\n",
    "            left_inds = np.where(data[:,split_point] == 0)\n",
    "            right_inds = np.where(data[:,split_point] == 1)\n",
    "            left_data = data[left_inds]\n",
    "            right_data = data[right_inds]\n",
    "            left_labels = labels[left_inds]\n",
    "            right_labels = labels[right_inds]\n",
    "            tree.split_rule = (split_point, np.mean(data[:,split_point]))\n",
    "            tree.left = self.train(self.Node(), left_data, left_labels, depth-1)\n",
    "            tree.right = self.train(self.Node(), right_data, right_labels, depth-1)\n",
    "        return tree\n",
    "\n",
    "    def predict(self, data, show=False, i=5):\n",
    "        # Traverses the tree to find the best label to classify the data point.\n",
    "        cur_node = self.root\n",
    "        origi = i\n",
    "#         while (cur_node.label == None and i):\n",
    "#             split_point = cur_node.split_rule[0]\n",
    "#             thresh = cur_node.split_rule[1]\n",
    "#             if show:\n",
    "#                 print(origi-i+1, split_point, thresh)\n",
    "#                 i-=1\n",
    "#             if (data[split_point] < thresh):\n",
    "#                 cur_node = cur_node.left\n",
    "#             else:\n",
    "#                 cur_node = cur_node.right\n",
    "#             if (cur_node.label>1):\n",
    "#                 print(cur_node.split_rule)\n",
    "#                 print(cur_node.label)\n",
    "#         return int(cur_node.label)\n",
    "        if show:\n",
    "            wohs = []\n",
    "        while (cur_node.label == None and i):\n",
    "            split_point = cur_node.split_rule[0]\n",
    "            thresh = cur_node.split_rule[1]\n",
    "            if show:\n",
    "                wohs += [ (split_point, data[split_point], thresh) ]\n",
    "                print(origi-i+1, split_point, data[split_point], thresh)\n",
    "                i-=1\n",
    "            if (data[split_point] < thresh):\n",
    "                cur_node = cur_node.left\n",
    "            else:\n",
    "                cur_node = cur_node.right\n",
    "            if (cur_node.label>1):\n",
    "                print(cur_node.split_rule)\n",
    "                print(cur_node.label)\n",
    "        if show:\n",
    "            return wohs\n",
    "        return int(cur_node.label)\n",
    "    \n",
    "    def predict_all(self, test_data):\n",
    "        predns = [0,0]\n",
    "        pred_labels = []\n",
    "        errors = 0\n",
    "        for i in range(len(test_data)):\n",
    "            sample = test_data[i]\n",
    "            predn = self.predict(sample)\n",
    "            if predn > 1:\n",
    "                print(predn)\n",
    "            predns[predn] += 1\n",
    "            pred_labels += [predn]\n",
    "        plt.stem(predns)\n",
    "        plt.xlim([-.2,1.2])\n",
    "        plt.title('Number of each class')\n",
    "#         print('Preidcted 1 : Total ratio =', predns[1]/len(test_data))\n",
    "        return np.array(pred_labels)\n",
    "    \n",
    "    def WSE(self, left_label_hist, right_label_hist):\n",
    "        return self.weighted_sum_of_entropy(left_label_hist, right_label_hist)\n",
    "    \n",
    "    def weighted_sum_of_entropy(self, left_label_hist, right_label_hist):\n",
    "        # we choose the split which MINimizes this quanitity\n",
    "        # for spam, two hists may be: ex. [( (0, 134), (1, 57)), ( (0, 12), (1, 19))]\n",
    "        # card_X -> cardinality of X histogram\n",
    "        card_left = left_label_hist[0][1] + left_label_hist[1][1]\n",
    "        card_right = right_label_hist[0][1] + right_label_hist[1][1]\n",
    "        return (card_left*self.entropy(left_label_hist) + card_right*self.entropy(right_label_hist))/(card_left+card_right+1e-11)\n",
    "    \n",
    "    def entropy(self, hist):\n",
    "        # of a node, often a proposed node.\n",
    "        # hist = (...,(feature_i, frequency),...)\n",
    "        total = hist[0][1] + hist[1][1] + 1e-15\n",
    "        prob0 = hist[0][1]/total\n",
    "        prob1 = hist[1][1]/total\n",
    "        return prob0*self.surprise(prob0) + prob1*self.surprise(prob1)\n",
    "        \n",
    "    def surprise(self, probability):\n",
    "        return -((np.log(probability + 1e-15))/np.log(2))\n",
    "\n",
    "    def impurity(self, left_label_hist, right_label_hist):\n",
    "    # A method that takes in the result of a split: two histograms (a histogram is a mapping\n",
    "    # from label values to their frequencies) that count the frequencies of labels on the ”left”\n",
    "    # and ”right” side of that split. The method calculates and outputs a scalar value\n",
    "    # representing the impurity (i.e. the ”badness”) of the specified split on the input data.\n",
    "    # for spam: ( (0, 134), (1, 57))\n",
    "        card_left = left_label_hist[0][1] + left_label_hist[1][1]\n",
    "        card_right = right_label_hist[0][1] + right_label_hist[1][1]\n",
    "        return ((card_left)*(gini_impurity(left_label_hist)) + (card_right)*(gini_impurity(right_label_hist)))/(card_left+card_right+1e-13)\n",
    "    \n",
    "def gini_impurity(hist):\n",
    "    # Y can be thought of as a vector of labels, where a label equals a class C in classes.\n",
    "    # we are only interested in the labels indexed by S. The other samples aren't being worked on.\n",
    "    sum_prob_squared = 0\n",
    "    card = hist[0][1] + hist[1][1]\n",
    "    sum_prob_squared = (hist[0][1]/(card+1e-13))**2 + (hist[1][1]/(card+1e-13))**2\n",
    "    return 1-sum_prob_squared"
   ]
  },
  {
   "cell_type": "code",
   "execution_count": 705,
   "metadata": {
    "collapsed": false
   },
   "outputs": [],
   "source": [
    "categorical_feats = np.array(['workclass', 'education', 'marital-status', 'occupation', 'relationship', 'race', 'sex', 'native-country'])"
   ]
  },
  {
   "cell_type": "code",
   "execution_count": 706,
   "metadata": {
    "collapsed": true
   },
   "outputs": [],
   "source": [
    "# Load data"
   ]
  },
  {
   "cell_type": "code",
   "execution_count": 632,
   "metadata": {
    "collapsed": false
   },
   "outputs": [],
   "source": [
    "reader = csv.reader(open('census_data/train_data.csv','r'))\n",
    "train_data = []\n",
    "train_labels = []\n",
    "for row in reader:\n",
    "    train_data += [row[:-1]]\n",
    "    train_labels += [row[-1]] # label is in last feature ~ last column\n",
    "categories = np.array(train_data)[0] # first row\n",
    "train_data = np.array(train_data)[1:] # skip first row entry = categories\n",
    "train_labels = np.array(train_labels)[1:].astype(np.int) # skip first row entry = 'label'"
   ]
  },
  {
   "cell_type": "code",
   "execution_count": 633,
   "metadata": {
    "collapsed": true
   },
   "outputs": [],
   "source": [
    "# Impute '?' in data"
   ]
  },
  {
   "cell_type": "code",
   "execution_count": 634,
   "metadata": {
    "collapsed": false,
    "scrolled": false
   },
   "outputs": [
    {
     "name": "stdout",
     "output_type": "stream",
     "text": [
      "['38.6681945972' 'Private' '189277.381891' 'HS-grad' '10.0763354113'\n",
      " 'Married-civ-spouse' 'Exec-managerial' 'Husband' 'White' 'Male'\n",
      " '1094.81634275' '86.9095465102' '40.4178584525' 'United-States']\n"
     ]
    }
   ],
   "source": [
    "mff = get_most_freq_feats(train_data, '?', categories, categorical_feats)\n",
    "impute_missing_value(train_data, mff, '?')\n",
    "print(mff)"
   ]
  },
  {
   "cell_type": "code",
   "execution_count": 635,
   "metadata": {
    "collapsed": true
   },
   "outputs": [],
   "source": [
    "# fnlwgt class has too many unique values,\n",
    "# so vectorizing isn't a good idea until I reduce it by centering and floor dividing:"
   ]
  },
  {
   "cell_type": "code",
   "execution_count": 636,
   "metadata": {
    "collapsed": true
   },
   "outputs": [],
   "source": [
    "fnlwgt_feat = 2\n",
    "train_data[:,fnlwgt_feat] = ((train_data[:,fnlwgt_feat].astype(np.float) - ((train_data[:,fnlwgt_feat].astype(np.float).min())))//5000).astype('S26')"
   ]
  },
  {
   "cell_type": "code",
   "execution_count": 637,
   "metadata": {
    "collapsed": true
   },
   "outputs": [],
   "source": [
    "# Build a list of dictionaries, each dictionary corresponds to a sample"
   ]
  },
  {
   "cell_type": "code",
   "execution_count": 638,
   "metadata": {
    "collapsed": true
   },
   "outputs": [],
   "source": [
    "train_dicts = [dict(zip(categories, row)) for row in train_data] # each sample is now a dict. labels and samples still in order."
   ]
  },
  {
   "cell_type": "code",
   "execution_count": 639,
   "metadata": {
    "collapsed": true
   },
   "outputs": [],
   "source": [
    "# Vectorize data, i.e, expand the features."
   ]
  },
  {
   "cell_type": "code",
   "execution_count": 640,
   "metadata": {
    "collapsed": false
   },
   "outputs": [],
   "source": [
    "dv = DictVectorizer(sparse=False) # want regular 'ol arrays.\n",
    "train_vectorized = dv.fit_transform(train_dicts)\n",
    "categories_vectorized = np.array(dv.feature_names_) # new labels because we expanded categorical features (vectorized)"
   ]
  },
  {
   "cell_type": "code",
   "execution_count": 621,
   "metadata": {
    "collapsed": true
   },
   "outputs": [],
   "source": [
    "# Load Kaggle Data"
   ]
  },
  {
   "cell_type": "code",
   "execution_count": 622,
   "metadata": {
    "collapsed": false,
    "scrolled": true
   },
   "outputs": [
    {
     "name": "stdout",
     "output_type": "stream",
     "text": [
      "['38.6681945972' 'Private' '189277.381891' 'HS-grad' '10.0763354113'\n",
      " 'Married-civ-spouse' 'Exec-managerial' 'Husband' 'White' 'Male'\n",
      " '1094.81634275' '86.9095465102' '40.4178584525' 'United-States']\n"
     ]
    }
   ],
   "source": [
    "reader = csv.reader(open('census_data/test_data.csv','r'))\n",
    "kaggle_data = []\n",
    "for row in reader:\n",
    "    kaggle_data += [row]\n",
    "kaggle_data = np.array(kaggle_data)[1:] # skip first row entry = categories\n",
    "\n",
    "print(mff)\n",
    "impute_missing_value(kaggle_data, mff, '?')\n",
    "\n",
    "fnlwgt_feat = 2\n",
    "kaggle_data[:,fnlwgt_feat] = ((kaggle_data[:,fnlwgt_feat].astype(np.float) - ((train_data[:,fnlwgt_feat].astype(np.float).min())))//5000).astype('S26')\n",
    "\n",
    "kaggle_dicts = [dict(zip(categories, row)) for row in kaggle_data] # each test sample is now a dict.\n",
    "\n",
    "kaggle_vectorized = dv.transform(kaggle_dicts) # don't fit to this! only transform it, because we want the labels on training and test to match."
   ]
  },
  {
   "cell_type": "code",
   "execution_count": 367,
   "metadata": {
    "collapsed": true
   },
   "outputs": [],
   "source": [
    "# Train a decision tree on census data."
   ]
  },
  {
   "cell_type": "code",
   "execution_count": 499,
   "metadata": {
    "collapsed": false
   },
   "outputs": [],
   "source": [
    "pt = 10\n",
    "train_inds, test_inds = generate_inds(train_vectorized, pt)\n",
    "XXX, prune_inds = generate_inds(train_vectorized, pt)\n",
    "\n",
    "training = train_vectorized[train_inds]\n",
    "training_labels = train_labels[train_inds]\n",
    "\n",
    "test = train_vectorized[test_inds]\n",
    "test_labels = train_labels[test_inds]\n",
    "\n",
    "pruneset = train_vectorized[prune_inds]\n",
    "prune_labels = train_labels[prune_inds]"
   ]
  },
  {
   "cell_type": "code",
   "execution_count": 718,
   "metadata": {
    "collapsed": false
   },
   "outputs": [
    {
     "name": "stdout",
     "output_type": "stream",
     "text": [
      "321\n"
     ]
    }
   ],
   "source": [
    "biggest_leaf_when_stop_okay = 7\n",
    "depth = 10\n",
    "\n",
    "dt = DecisionTree(biggest_leaf_when_stop_okay)\n",
    "dt.train(dt.root, training, training_labels, depth)\n",
    "print(countnodesandleaves(dt.root))"
   ]
  },
  {
   "cell_type": "code",
   "execution_count": 719,
   "metadata": {
    "collapsed": false,
    "scrolled": true
   },
   "outputs": [
    {
     "name": "stdout",
     "output_type": "stream",
     "text": [
      "Error 0.143948655257\n"
     ]
    },
    {
     "data": {
      "image/png": "[encoded data removed]",
      "text/plain": [
       "<matplotlib.figure.Figure at 0x11a5001d0>"
      ]
     },
     "metadata": {},
     "output_type": "display_data"
    }
   ],
   "source": [
    "predn_labels = dt.predict_all(test);\n",
    "print('Error', np.sum(predn_labels != test_labels)/len(test_labels))"
   ]
  },
  {
   "cell_type": "code",
   "execution_count": 435,
   "metadata": {
    "collapsed": true
   },
   "outputs": [],
   "source": [
    "# Train a random forest on census data.\n",
    "\n",
    "m = int(np.rint(0.666*(len(categories_vectorized))))\n",
    "print('m:', m)\n",
    "\n",
    "biggest_leaf_when_stop_okay = 2\n",
    "forest_depth = 10\n",
    "\n",
    "rf = RandomForest(biggest_leaf_when_stop_okay, m)\n",
    "rf.train(rf.root, training, training_labels, forest_depth)\n",
    "\n",
    "predn_labels = rf.predict_all(test);\n",
    "print('Error:', np.sum(predn_labels != test_labels)/len(test_labels))"
   ]
  },
  {
   "cell_type": "code",
   "execution_count": null,
   "metadata": {
    "collapsed": true
   },
   "outputs": [],
   "source": [
    "# Build T decision trees, average their result. Samples chosen by bagging."
   ]
  },
  {
   "cell_type": "code",
   "execution_count": 588,
   "metadata": {
    "collapsed": true
   },
   "outputs": [],
   "source": [
    "training = train_vectorized[train_inds]\n",
    "training_labels = train_labels[train_inds]\n",
    "\n",
    "test = train_vectorized[test_inds]\n",
    "test_labels = train_labels[test_inds]"
   ]
  },
  {
   "cell_type": "code",
   "execution_count": 674,
   "metadata": {
    "collapsed": false
   },
   "outputs": [],
   "source": [
    "num_trees = 10\n",
    "pt = 10\n",
    "treetype = 'DecisionTree'\n",
    "depth = 13\n",
    "m = 220\n",
    "size_to_stop = 1\n",
    "bagging = True\n",
    "prune = False\n",
    "\n",
    "trees = grow_set_trees(num_trees, pt, training, training_labels, treetype, depth, m, size_to_stop, bagging, prune)"
   ]
  },
  {
   "cell_type": "code",
   "execution_count": 562,
   "metadata": {
    "collapsed": false,
    "scrolled": true
   },
   "outputs": [
    {
     "name": "stdout",
     "output_type": "stream",
     "text": [
      "('Error of 20 trees:', 0.14058679706601468)\n"
     ]
    },
    {
     "data": {
      "image/png": "[encoded data removed]",
      "text/plain": [
       "<matplotlib.figure.Figure at 0x11a9f4e50>"
      ]
     },
     "metadata": {},
     "output_type": "display_data"
    }
   ],
   "source": [
    "avg_predn_trees_labels = avg_prediction(trees, test)\n",
    "print('Error of 10 trees:', np.sum(avg_predn_trees_labels != test_labels)/len(test_labels))"
   ]
  },
  {
   "cell_type": "code",
   "execution_count": 673,
   "metadata": {
    "collapsed": false
   },
   "outputs": [],
   "source": [
    "pruned_trees = []\n",
    "count = 0\n",
    "for tree in trees:\n",
    "    \n",
    "    print('before', count, countnodesandleaves(tree.root))\n",
    "    \n",
    "    XXX, prune_inds = generate_inds(training, pt)\n",
    "    pruneset = training[prune_inds]\n",
    "    prune_labels = training_labels[prune_inds]\n",
    "    postprune(tree.root, tree, pruneset, prune_labels)\n",
    "    \n",
    "    print('after', count, countnodesandleaves(tree.root))\n",
    "\n",
    "    pruned_trees += [tree]\n",
    "    count+=1"
   ]
  },
  {
   "cell_type": "code",
   "execution_count": 568,
   "metadata": {
    "collapsed": false
   },
   "outputs": [
    {
     "name": "stdout",
     "output_type": "stream",
     "text": [
      "('Error of 20 pruned trees:', 0.13722493887530562)\n"
     ]
    },
    {
     "data": {
      "image/png": "[encoded data removed]",
      "text/plain": [
       "<matplotlib.figure.Figure at 0x11a0d1690>"
      ]
     },
     "metadata": {},
     "output_type": "display_data"
    }
   ],
   "source": [
    "avg_predn_pruned_trees_labels = avg_prediction(pruned_trees, test)\n",
    "print('Error of 10 pruned trees:', np.sum(avg_predn_pruned_trees_labels != test_labels)/len(test_labels))"
   ]
  },
  {
   "cell_type": "code",
   "execution_count": null,
   "metadata": {
    "collapsed": false
   },
   "outputs": [],
   "source": [
    "# forests below"
   ]
  },
  {
   "cell_type": "code",
   "execution_count": 735,
   "metadata": {
    "collapsed": false
   },
   "outputs": [],
   "source": [
    "num_trees = 10\n",
    "pt = 10\n",
    "treetype = 'RandomForest'\n",
    "depth = 400\n",
    "m = 36\n",
    "size_to_stop = 1\n",
    "bagging = True\n",
    "prune = False\n",
    "\n",
    "random_forests = grow_set_trees(num_trees, pt, train_vectorized, train_labels, treetype, depth, m, size_to_stop, bagging, prune)\n",
    "\n",
    "avg_predn_forests_labels = avg_prediction(random_forests, test)\n",
    "print('Error of 10 random forests:', np.sum(avg_predn_forests_labels != test_labels)/len(test_labels))"
   ]
  },
  {
   "cell_type": "code",
   "execution_count": 682,
   "metadata": {
    "collapsed": false,
    "scrolled": true
   },
   "outputs": [
    {
     "data": {
      "text/plain": [
       "0.081461719816354389"
      ]
     },
     "execution_count": 682,
     "metadata": {},
     "output_type": "execute_result"
    },
    {
     "data": {
      "image/png": "[encoded data removed]",
      "text/plain": [
       "<matplotlib.figure.Figure at 0x11b1fe0d0>"
      ]
     },
     "metadata": {},
     "output_type": "display_data"
    }
   ],
   "source": [
    "kaggle_pdn_labels = np.array(avg_prediction(random_forests, kaggle_vectorized))[0]\n",
    "np.sum(kaggle_pdn_labels)/len(kaggle_pdn_labels)"
   ]
  },
  {
   "cell_type": "code",
   "execution_count": 681,
   "metadata": {
    "collapsed": true
   },
   "outputs": [],
   "source": [
    "save_labels(kaggle_pdn_labels, 'cenus_labels_400depth10trees.csv')\n",
    "# Kaggle Score: 0.75533"
   ]
  },
  {
   "cell_type": "code",
   "execution_count": 456,
   "metadata": {
    "collapsed": false
   },
   "outputs": [],
   "source": [
    "# KFold CV on depths for Decision Tree."
   ]
  },
  {
   "cell_type": "code",
   "execution_count": 464,
   "metadata": {
    "collapsed": false
   },
   "outputs": [
    {
     "data": {
      "text/plain": [
       "<matplotlib.text.Text at 0x1189dad50>"
      ]
     },
     "execution_count": 464,
     "metadata": {},
     "output_type": "execute_result"
    },
    {
     "data": {
      "image/png": "[encoded data removed]",
      "text/plain": [
       "<matplotlib.figure.Figure at 0x11a3e1e10>"
      ]
     },
     "metadata": {},
     "output_type": "display_data"
    }
   ],
   "source": [
    "plt.plot(depths[:12], depth_errors[:12])\n",
    "plt.title('Result of K-fold CV for Depth of Tree')\n",
    "plt.xlabel('Depth')\n",
    "plt.ylabel('Average Error')\n",
    "# min at 13 when size_to_stop = 7"
   ]
  },
  {
   "cell_type": "code",
   "execution_count": null,
   "metadata": {
    "collapsed": true
   },
   "outputs": [],
   "source": [
    "# ### sw\n",
    "# ms = [220]\n",
    "# kfold(5,'size_to_stop',training,training_labels,[1],'DecisionTree',depth=13,size_to_stop=None)\n",
    "# kfold(5,'depth',training,training_labels,depths,'DecisionTree',size_to_stop=7)\n",
    "# kfold(5,'m',training,training_labels,ms,'RandomForest',depth=13,size_to_stop=1)"
   ]
  }
 ],
 "metadata": {
  "kernelspec": {
   "display_name": "Python 2",
   "language": "python",
   "name": "python2"
  },
  "language_info": {
   "codemirror_mode": {
    "name": "ipython",
    "version": 2
   },
   "file_extension": ".py",
   "mimetype": "text/x-python",
   "name": "python",
   "nbconvert_exporter": "python",
   "pygments_lexer": "ipython2",
   "version": "2.7.9"
  }
 },
 "nbformat": 4,
 "nbformat_minor": 0
}
